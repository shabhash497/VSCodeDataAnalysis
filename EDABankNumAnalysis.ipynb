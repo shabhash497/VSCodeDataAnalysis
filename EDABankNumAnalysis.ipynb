{
 "cells": [
  {
   "cell_type": "code",
   "execution_count": 3,
   "id": "f4565192",
   "metadata": {},
   "outputs": [],
   "source": [
    "import pandas as pd\n",
    "import numpy as np\n",
    "import matplotlib.pyplot as plt\n",
    "import seaborn as sns"
   ]
  },
  {
   "cell_type": "code",
   "execution_count": 4,
   "id": "1de31bb7",
   "metadata": {},
   "outputs": [],
   "source": [
    "file='bank.csv'\n",
    "bank_df = pd.read_csv('bank.csv', header=None,skiprows=1)\n",
    "bank_df = bank_df[0].str.split(';', expand=True)\n",
    "bank_df.columns = ['age', 'job', 'marital', 'education', 'default', 'balance', 'housing', 'loan', 'contact', 'day', 'month', 'duration', 'campaign', 'pdays', 'previous', 'poutcome', 'y']"
   ]
  },
  {
   "cell_type": "code",
   "execution_count": 5,
   "id": "f8da7b83",
   "metadata": {},
   "outputs": [],
   "source": [
    "bank_df['balance'] = bank_df['balance'].astype(float)\n",
    "bank_df['balance'] = bank_df['balance'].replace(',', '.', regex=True)\n",
    "bank_df['age'] = bank_df['age'].astype(int)\n",
    "bank_df['age'] = bank_df['age'].replace(' ', '0', regex=True)\n",
    "bank_df['day'] = bank_df['day'].astype(int)\n",
    "bank_df['day'] = bank_df['day'].replace(' ', '0', regex=True)\n",
    "bank_df['campaign'] = bank_df['campaign'].astype(int)\n",
    "bank_df['campaign'] = bank_df['campaign'].replace(' ', '0', regex=True)\n",
    "bank_df['pdays'] = bank_df['pdays'].astype(int)\n",
    "bank_df['pdays'] = bank_df['pdays'].replace(' ', '0', regex=True)\n",
    "bank_df['previous'] = bank_df['previous'].astype(int)\n",
    "bank_df['previous'] = bank_df['previous'].replace(' ', '0', regex=True)\n",
    "bank_df['duration'] = bank_df['duration'].astype(int)\n",
    "bank_df['duration'] = bank_df['duration'].replace(' ', '0', regex=True)"
   ]
  },
  {
   "cell_type": "code",
   "execution_count": 6,
   "id": "2ee6a249",
   "metadata": {},
   "outputs": [],
   "source": [
    "num=bank_df.select_dtypes(include=[np.number]).columns\n",
    "cat=bank_df.select_dtypes(exclude=[np.number]).columns"
   ]
  },
  {
   "cell_type": "code",
   "execution_count": 8,
   "id": "8e0ed994",
   "metadata": {},
   "outputs": [
    {
     "data": {
      "text/plain": [
       "Index(['age', 'balance', 'day', 'duration', 'campaign', 'pdays', 'previous'], dtype='object')"
      ]
     },
     "execution_count": 8,
     "metadata": {},
     "output_type": "execute_result"
    }
   ],
   "source": [
    "num"
   ]
  },
  {
   "cell_type": "code",
   "execution_count": 7,
   "id": "5de4fe06",
   "metadata": {},
   "outputs": [
    {
     "data": {
      "text/html": [
       "<div>\n",
       "<style scoped>\n",
       "    .dataframe tbody tr th:only-of-type {\n",
       "        vertical-align: middle;\n",
       "    }\n",
       "\n",
       "    .dataframe tbody tr th {\n",
       "        vertical-align: top;\n",
       "    }\n",
       "\n",
       "    .dataframe thead th {\n",
       "        text-align: right;\n",
       "    }\n",
       "</style>\n",
       "<table border=\"1\" class=\"dataframe\">\n",
       "  <thead>\n",
       "    <tr style=\"text-align: right;\">\n",
       "      <th></th>\n",
       "      <th>age</th>\n",
       "      <th>balance</th>\n",
       "      <th>day</th>\n",
       "      <th>duration</th>\n",
       "      <th>campaign</th>\n",
       "      <th>pdays</th>\n",
       "      <th>previous</th>\n",
       "    </tr>\n",
       "  </thead>\n",
       "  <tbody>\n",
       "    <tr>\n",
       "      <th>count</th>\n",
       "      <td>4521.000000</td>\n",
       "      <td>4521.000000</td>\n",
       "      <td>4521.000000</td>\n",
       "      <td>4521.000000</td>\n",
       "      <td>4521.000000</td>\n",
       "      <td>4521.000000</td>\n",
       "      <td>4521.000000</td>\n",
       "    </tr>\n",
       "    <tr>\n",
       "      <th>mean</th>\n",
       "      <td>41.170095</td>\n",
       "      <td>1422.657819</td>\n",
       "      <td>15.915284</td>\n",
       "      <td>263.961292</td>\n",
       "      <td>2.793630</td>\n",
       "      <td>39.766645</td>\n",
       "      <td>0.542579</td>\n",
       "    </tr>\n",
       "    <tr>\n",
       "      <th>std</th>\n",
       "      <td>10.576211</td>\n",
       "      <td>3009.638142</td>\n",
       "      <td>8.247667</td>\n",
       "      <td>259.856633</td>\n",
       "      <td>3.109807</td>\n",
       "      <td>100.121124</td>\n",
       "      <td>1.693562</td>\n",
       "    </tr>\n",
       "    <tr>\n",
       "      <th>min</th>\n",
       "      <td>19.000000</td>\n",
       "      <td>-3313.000000</td>\n",
       "      <td>1.000000</td>\n",
       "      <td>4.000000</td>\n",
       "      <td>1.000000</td>\n",
       "      <td>-1.000000</td>\n",
       "      <td>0.000000</td>\n",
       "    </tr>\n",
       "    <tr>\n",
       "      <th>25%</th>\n",
       "      <td>33.000000</td>\n",
       "      <td>69.000000</td>\n",
       "      <td>9.000000</td>\n",
       "      <td>104.000000</td>\n",
       "      <td>1.000000</td>\n",
       "      <td>-1.000000</td>\n",
       "      <td>0.000000</td>\n",
       "    </tr>\n",
       "    <tr>\n",
       "      <th>50%</th>\n",
       "      <td>39.000000</td>\n",
       "      <td>444.000000</td>\n",
       "      <td>16.000000</td>\n",
       "      <td>185.000000</td>\n",
       "      <td>2.000000</td>\n",
       "      <td>-1.000000</td>\n",
       "      <td>0.000000</td>\n",
       "    </tr>\n",
       "    <tr>\n",
       "      <th>75%</th>\n",
       "      <td>49.000000</td>\n",
       "      <td>1480.000000</td>\n",
       "      <td>21.000000</td>\n",
       "      <td>329.000000</td>\n",
       "      <td>3.000000</td>\n",
       "      <td>-1.000000</td>\n",
       "      <td>0.000000</td>\n",
       "    </tr>\n",
       "    <tr>\n",
       "      <th>max</th>\n",
       "      <td>87.000000</td>\n",
       "      <td>71188.000000</td>\n",
       "      <td>31.000000</td>\n",
       "      <td>3025.000000</td>\n",
       "      <td>50.000000</td>\n",
       "      <td>871.000000</td>\n",
       "      <td>25.000000</td>\n",
       "    </tr>\n",
       "  </tbody>\n",
       "</table>\n",
       "</div>"
      ],
      "text/plain": [
       "               age       balance          day     duration     campaign  \\\n",
       "count  4521.000000   4521.000000  4521.000000  4521.000000  4521.000000   \n",
       "mean     41.170095   1422.657819    15.915284   263.961292     2.793630   \n",
       "std      10.576211   3009.638142     8.247667   259.856633     3.109807   \n",
       "min      19.000000  -3313.000000     1.000000     4.000000     1.000000   \n",
       "25%      33.000000     69.000000     9.000000   104.000000     1.000000   \n",
       "50%      39.000000    444.000000    16.000000   185.000000     2.000000   \n",
       "75%      49.000000   1480.000000    21.000000   329.000000     3.000000   \n",
       "max      87.000000  71188.000000    31.000000  3025.000000    50.000000   \n",
       "\n",
       "             pdays     previous  \n",
       "count  4521.000000  4521.000000  \n",
       "mean     39.766645     0.542579  \n",
       "std     100.121124     1.693562  \n",
       "min      -1.000000     0.000000  \n",
       "25%      -1.000000     0.000000  \n",
       "50%      -1.000000     0.000000  \n",
       "75%      -1.000000     0.000000  \n",
       "max     871.000000    25.000000  "
      ]
     },
     "execution_count": 7,
     "metadata": {},
     "output_type": "execute_result"
    }
   ],
   "source": [
    "bank_df.describe()"
   ]
  },
  {
   "cell_type": "code",
   "execution_count": 8,
   "id": "79bfbef4",
   "metadata": {},
   "outputs": [],
   "source": [
    "balance_data=bank_df['balance']\n",
    "balance_data\n",
    "balance_25p=np.percentile(balance_data, 25)\n"
   ]
  },
  {
   "cell_type": "markdown",
   "id": "3c640b80",
   "metadata": {},
   "source": [
    "**Percentile**\n",
    "\n",
    "- 25 percentage of data less than 69.000000\n",
    "- 25percentage of data =25*4521/100= 1130.25\n",
    "- 6370 members has salary less than 1130.25"
   ]
  },
  {
   "cell_type": "code",
   "execution_count": null,
   "id": "eab1f491",
   "metadata": {},
   "outputs": [],
   "source": [
    "**Percentile**\n",
    "\n",
    "- 25 percentage of data less than 4521.000000\n",
    "- 25 percentage of data =25*4521/100= 1130.25\n",
    "- 6370 members has salary less than 1130.25"
   ]
  },
  {
   "cell_type": "code",
   "execution_count": 30,
   "id": "a4d3e587",
   "metadata": {},
   "outputs": [
    {
     "name": "stdout",
     "output_type": "stream",
     "text": [
      "      age              job     marital    education default  balance housing  \\\n",
      "4      59    \"blue-collar\"   \"married\"  \"secondary\"    \"no\"      0.0   \"yes\"   \n",
      "9      43       \"services\"   \"married\"    \"primary\"    \"no\"    -88.0   \"yes\"   \n",
      "18     25    \"blue-collar\"    \"single\"    \"primary\"    \"no\"   -221.0   \"yes\"   \n",
      "20     38     \"management\"  \"divorced\"    \"unknown\"    \"no\"      0.0   \"yes\"   \n",
      "21     42     \"management\"  \"divorced\"   \"tertiary\"    \"no\"     16.0    \"no\"   \n",
      "...   ...              ...         ...          ...     ...      ...     ...   \n",
      "4497   31   \"entrepreneur\"    \"single\"   \"tertiary\"    \"no\"     38.0    \"no\"   \n",
      "4502   42       \"services\"   \"married\"  \"secondary\"    \"no\"    -91.0   \"yes\"   \n",
      "4506   42     \"unemployed\"  \"divorced\"   \"tertiary\"    \"no\"   -166.0    \"no\"   \n",
      "4516   33       \"services\"   \"married\"  \"secondary\"    \"no\"   -333.0   \"yes\"   \n",
      "4517   57  \"self-employed\"   \"married\"   \"tertiary\"   \"yes\"  -3313.0   \"yes\"   \n",
      "\n",
      "       loan     contact  day  month  duration  campaign  pdays  previous  \\\n",
      "4      \"no\"   \"unknown\"    5  \"may\"       226         1     -1         0   \n",
      "9     \"yes\"  \"cellular\"   17  \"apr\"       313         1    147         2   \n",
      "18     \"no\"   \"unknown\"   23  \"may\"       250         1     -1         0   \n",
      "20     \"no\"  \"cellular\"   18  \"nov\"        96         2     -1         0   \n",
      "21     \"no\"  \"cellular\"   19  \"nov\"       140         3     -1         0   \n",
      "...     ...         ...  ...    ...       ...       ...    ...       ...   \n",
      "4497   \"no\"  \"cellular\"   20  \"nov\"       185         2     -1         0   \n",
      "4502  \"yes\"  \"cellular\"    5  \"feb\"        43         1     -1         0   \n",
      "4506   \"no\"  \"cellular\"   29  \"aug\"        85         4     -1         0   \n",
      "4516   \"no\"  \"cellular\"   30  \"jul\"       329         5     -1         0   \n",
      "4517  \"yes\"   \"unknown\"    9  \"may\"       153         1     -1         0   \n",
      "\n",
      "       poutcome     y  \n",
      "4     \"unknown\"  \"no\"  \n",
      "9     \"failure\"  \"no\"  \n",
      "18    \"unknown\"  \"no\"  \n",
      "20    \"unknown\"  \"no\"  \n",
      "21    \"unknown\"  \"no\"  \n",
      "...         ...   ...  \n",
      "4497  \"unknown\"  \"no\"  \n",
      "4502  \"unknown\"  \"no\"  \n",
      "4506  \"unknown\"  \"no\"  \n",
      "4516  \"unknown\"  \"no\"  \n",
      "4517  \"unknown\"  \"no\"  \n",
      "\n",
      "[1129 rows x 17 columns]\n"
     ]
    },
    {
     "data": {
      "text/plain": [
       "1129"
      ]
     },
     "execution_count": 30,
     "metadata": {},
     "output_type": "execute_result"
    }
   ],
   "source": [
    "con=balance_data<balance_25p\n",
    "val= bank_df[con]\n",
    "print(val)\n",
    "len(val)"
   ]
  },
  {
   "cell_type": "code",
   "execution_count": 9,
   "id": "74cfc234",
   "metadata": {},
   "outputs": [],
   "source": [
    "day_data=bank_df['day']\n",
    "day_data\n",
    "day_25p=np.percentile(day_data, 25)"
   ]
  },
  {
   "cell_type": "code",
   "execution_count": 28,
   "id": "0abd732a",
   "metadata": {},
   "outputs": [
    {
     "name": "stdout",
     "output_type": "stream",
     "text": [
      "      age             job    marital    education default  balance housing  \\\n",
      "3      30    \"management\"  \"married\"   \"tertiary\"    \"no\"   1476.0   \"yes\"   \n",
      "4      59   \"blue-collar\"  \"married\"  \"secondary\"    \"no\"      0.0   \"yes\"   \n",
      "7      39    \"technician\"  \"married\"  \"secondary\"    \"no\"    147.0   \"yes\"   \n",
      "19     31      \"services\"  \"married\"  \"secondary\"    \"no\"    132.0    \"no\"   \n",
      "23     44  \"entrepreneur\"  \"married\"  \"secondary\"    \"no\"     93.0    \"no\"   \n",
      "...   ...             ...        ...          ...     ...      ...     ...   \n",
      "4493   28    \"technician\"   \"single\"   \"tertiary\"    \"no\"      0.0   \"yes\"   \n",
      "4502   42      \"services\"  \"married\"  \"secondary\"    \"no\"    -91.0   \"yes\"   \n",
      "4515   32      \"services\"   \"single\"  \"secondary\"    \"no\"    473.0   \"yes\"   \n",
      "4519   28   \"blue-collar\"  \"married\"  \"secondary\"    \"no\"   1137.0    \"no\"   \n",
      "4520   44  \"entrepreneur\"   \"single\"   \"tertiary\"    \"no\"   1136.0   \"yes\"   \n",
      "\n",
      "       loan     contact  day  month  duration  campaign  pdays  previous  \\\n",
      "3     \"yes\"   \"unknown\"    3  \"jun\"       199         4     -1         0   \n",
      "4      \"no\"   \"unknown\"    5  \"may\"       226         1     -1         0   \n",
      "7      \"no\"  \"cellular\"    6  \"may\"       151         2     -1         0   \n",
      "19     \"no\"  \"cellular\"    7  \"jul\"       148         1    152         1   \n",
      "23     \"no\"  \"cellular\"    7  \"jul\"       125         2     -1         0   \n",
      "...     ...         ...  ...    ...       ...       ...    ...       ...   \n",
      "4493   \"no\"   \"unknown\"    4  \"jun\"       205         6     -1         0   \n",
      "4502  \"yes\"  \"cellular\"    5  \"feb\"        43         1     -1         0   \n",
      "4515   \"no\"  \"cellular\"    7  \"jul\"       624         5     -1         0   \n",
      "4519   \"no\"  \"cellular\"    6  \"feb\"       129         4    211         3   \n",
      "4520  \"yes\"  \"cellular\"    3  \"apr\"       345         2    249         7   \n",
      "\n",
      "       poutcome     y  \n",
      "3     \"unknown\"  \"no\"  \n",
      "4     \"unknown\"  \"no\"  \n",
      "7     \"unknown\"  \"no\"  \n",
      "19      \"other\"  \"no\"  \n",
      "23    \"unknown\"  \"no\"  \n",
      "...         ...   ...  \n",
      "4493  \"unknown\"  \"no\"  \n",
      "4502  \"unknown\"  \"no\"  \n",
      "4515  \"unknown\"  \"no\"  \n",
      "4519    \"other\"  \"no\"  \n",
      "4520    \"other\"  \"no\"  \n",
      "\n",
      "[1123 rows x 17 columns]\n"
     ]
    },
    {
     "data": {
      "text/plain": [
       "1123"
      ]
     },
     "execution_count": 28,
     "metadata": {},
     "output_type": "execute_result"
    }
   ],
   "source": [
    "con=day_data<day_25p\n",
    "val= bank_df[con]\n",
    "type(val)\n",
    "print(val)\n",
    "len(val)"
   ]
  },
  {
   "cell_type": "markdown",
   "id": "e242943d",
   "metadata": {},
   "source": [
    "**Emperical Rule**\n",
    "- u-1sigma to u+1sigma 68 % of data\n",
    "- u-2sigma to u+2sigma 95% of data\n",
    "- u-3sigma to u+3sigma 98% of data"
   ]
  },
  {
   "cell_type": "code",
   "execution_count": 10,
   "id": "2416175f",
   "metadata": {},
   "outputs": [
    {
     "name": "stdout",
     "output_type": "stream",
     "text": [
      "1422.6578190665782\n"
     ]
    },
    {
     "data": {
      "text/plain": [
       "4143"
      ]
     },
     "execution_count": 10,
     "metadata": {},
     "output_type": "execute_result"
    }
   ],
   "source": [
    "balance_data=bank_df['balance']\n",
    "balance_data_mean= np.mean(balance_data)\n",
    "balance_data_std= np.std(balance_data)\n",
    "balance_data_68=np.percentile(balance_data, 68)\n",
    "print(balance_data_mean)\n",
    "lb=balance_data_mean - balance_data_std\n",
    "ub=balance_data_mean + balance_data_std\n",
    "con1=balance_data>lb\n",
    "con2=balance_data<ub\n",
    "val1= bank_df[con1 & con2]\n",
    "len(val1)"
   ]
  },
  {
   "cell_type": "code",
   "execution_count": 11,
   "id": "63799d1c",
   "metadata": {},
   "outputs": [
    {
     "name": "stdout",
     "output_type": "stream",
     "text": [
      "1422.6578190665782\n"
     ]
    },
    {
     "data": {
      "text/plain": [
       "4143"
      ]
     },
     "execution_count": 11,
     "metadata": {},
     "output_type": "execute_result"
    }
   ],
   "source": [
    "balance_data=bank_df['balance']\n",
    "balance_data_mean= np.mean(balance_data)\n",
    "balance_data_std= np.std(balance_data)\n",
    "balance_data_68=np.percentile(balance_data, 68)\n",
    "print(balance_data_mean)\n",
    "lb=balance_data_mean - balance_data_std\n",
    "ub=balance_data_mean + balance_data_std\n",
    "con1=balance_data>lb\n",
    "con2=balance_data<ub\n",
    "val1= bank_df[con1 & con2]\n",
    "len(val1)"
   ]
  },
  {
   "cell_type": "code",
   "execution_count": 38,
   "id": "011555f3",
   "metadata": {},
   "outputs": [
    {
     "data": {
      "image/png": "[encoded data removed]",
      "text/plain": [
       "<Figure size 640x480 with 1 Axes>"
      ]
     },
     "metadata": {},
     "output_type": "display_data"
    }
   ],
   "source": [
    "counts,intervals,bin =plt.hist(bank_df['day'], bins=20)"
   ]
  },
  {
   "cell_type": "code",
   "execution_count": 36,
   "id": "cac70137",
   "metadata": {},
   "outputs": [
    {
     "name": "stdout",
     "output_type": "stream",
     "text": [
      "15.915284229152842\n"
     ]
    },
    {
     "data": {
      "text/plain": [
       "2692"
      ]
     },
     "execution_count": 36,
     "metadata": {},
     "output_type": "execute_result"
    }
   ],
   "source": [
    "day_data = bank_df['day']\n",
    "day_data_mean = np.mean(day_data)\n",
    "day_data_std = np.std(day_data)\n",
    "day_data_68 = np.percentile(day_data, 68)\n",
    "print(day_data_mean)\n",
    "lb = day_data_mean - day_data_std\n",
    "ub = day_data_mean + day_data_std\n",
    "con1 = day_data > lb\n",
    "con2 = day_data < ub\n",
    "val1 = bank_df[con1 & con2]\n",
    "len(val1)"
   ]
  },
  {
   "cell_type": "markdown",
   "id": "18679461",
   "metadata": {},
   "source": [
    "**Here Emperical is not followed**\n",
    "**Emperical not followed means Skewed**\n",
    "**we need to draw Histogram to check this ,skewed**"
   ]
  },
  {
   "cell_type": "code",
   "execution_count": 41,
   "id": "69f5006e",
   "metadata": {},
   "outputs": [
    {
     "name": "stdout",
     "output_type": "stream",
     "text": [
      "[141. 105. 320. 187. 370. 163. 202. 151. 361. 174. 355. 226. 458. 198.\n",
      " 188.  36. 190. 113. 356. 227.]\n",
      "[ 1.   2.5  4.   5.5  7.   8.5 10.  11.5 13.  14.5 16.  17.5 19.  20.5\n",
      " 22.  23.5 25.  26.5 28.  29.5 31. ]\n"
     ]
    }
   ],
   "source": [
    "print(counts)\n",
    "print(intervals)"
   ]
  },
  {
   "cell_type": "code",
   "execution_count": 42,
   "id": "8eb426bf",
   "metadata": {},
   "outputs": [
    {
     "data": {
      "image/png": "[encoded data removed]",
      "text/plain": [
       "<Figure size 1400x300 with 3 Axes>"
      ]
     },
     "metadata": {},
     "output_type": "display_data"
    }
   ],
   "source": [
    "plt.figure(figsize=(14,3))\n",
    "plt.subplot(1,3,1)\n",
    "counts,intervals,bin = plt.hist(day_data)\n",
    "plt.subplot(1,3,2)\n",
    "counts,intervals,bin = plt.hist(day_data,bins=40)\n",
    "plt.subplot(1,3,3)\n",
    "counts,intervals,bin = plt.hist(day_data,bins=100)\n",
    "plt.show()"
   ]
  },
  {
   "cell_type": "markdown",
   "id": "391d20d9",
   "metadata": {},
   "source": [
    "**sns.histplot**"
   ]
  },
  {
   "cell_type": "code",
   "execution_count": 43,
   "id": "a8a6f1ca",
   "metadata": {},
   "outputs": [
    {
     "data": {
      "text/plain": [
       "<Axes: xlabel='day', ylabel='Count'>"
      ]
     },
     "execution_count": 43,
     "metadata": {},
     "output_type": "execute_result"
    },
    {
     "data": {
      "image/png": "[encoded data removed]",
      "text/plain": [
       "<Figure size 640x480 with 1 Axes>"
      ]
     },
     "metadata": {},
     "output_type": "display_data"
    }
   ],
   "source": [
    "import warnings\n",
    "warnings.filterwarnings('ignore')\n",
    "sns.histplot(bank_df['day'], bins=20, kde=True)"
   ]
  },
  {
   "cell_type": "code",
   "execution_count": 44,
   "id": "eb3f7047",
   "metadata": {},
   "outputs": [
    {
     "data": {
      "text/plain": [
       "<Axes: xlabel='day', ylabel='Density'>"
      ]
     },
     "execution_count": 44,
     "metadata": {},
     "output_type": "execute_result"
    },
    {
     "data": {
      "image/png": "[encoded data removed]",
      "text/plain": [
       "<Figure size 640x480 with 1 Axes>"
      ]
     },
     "metadata": {},
     "output_type": "display_data"
    }
   ],
   "source": [
    "sns.distplot(bank_df['day'], bins=20, kde=True)"
   ]
  },
  {
   "cell_type": "code",
   "execution_count": 20,
   "id": "e91949be",
   "metadata": {},
   "outputs": [
    {
     "data": {
      "image/png": "[encoded data removed]",
      "text/plain": [
       "<Figure size 640x480 with 1 Axes>"
      ]
     },
     "metadata": {},
     "output_type": "display_data"
    }
   ],
   "source": [
    "sns.boxplot(data=balance_data, orient='h')\n",
    "plt.title('Boxplot of Bank Balance by Day')\n",
    "plt.xlabel('Day')\n",
    "plt.ylabel('Balance')\n",
    "plt.show()"
   ]
  },
  {
   "cell_type": "code",
   "execution_count": null,
   "id": "87c954f5",
   "metadata": {},
   "outputs": [
    {
     "data": {
      "image/png": "[encoded data removed]",
      "text/plain": [
       "<Figure size 640x480 with 1 Axes>"
      ]
     },
     "metadata": {},
     "output_type": "display_data"
    }
   ],
   "source": [
    "sns.boxplot(data=day_data, orient='h')\n",
    "plt.title('Boxplot of Bank Balance by Day')\n",
    "plt.xlabel('Day')\n",
    "plt.ylabel('Balance')\n",
    "plt.show()"
   ]
  },
  {
   "cell_type": "code",
   "execution_count": 22,
   "id": "a709c73d",
   "metadata": {},
   "outputs": [
    {
     "data": {
      "text/plain": [
       "0       1787.0\n",
       "1       4789.0\n",
       "2       1350.0\n",
       "3       1476.0\n",
       "4          0.0\n",
       "         ...  \n",
       "4516    -333.0\n",
       "4517   -3313.0\n",
       "4518     295.0\n",
       "4519    1137.0\n",
       "4520    1136.0\n",
       "Name: balance, Length: 4521, dtype: float64"
      ]
     },
     "execution_count": 22,
     "metadata": {},
     "output_type": "execute_result"
    }
   ],
   "source": [
    "balance_data"
   ]
  },
  {
   "cell_type": "code",
   "execution_count": 23,
   "id": "4c4f0cdc",
   "metadata": {},
   "outputs": [
    {
     "data": {
      "text/plain": [
       "0       19\n",
       "1       11\n",
       "2       16\n",
       "3        3\n",
       "4        5\n",
       "        ..\n",
       "4516    30\n",
       "4517     9\n",
       "4518    19\n",
       "4519     6\n",
       "4520     3\n",
       "Name: day, Length: 4521, dtype: int64"
      ]
     },
     "execution_count": 23,
     "metadata": {},
     "output_type": "execute_result"
    }
   ],
   "source": [
    "day_data"
   ]
  },
  {
   "cell_type": "markdown",
   "id": "ce692487",
   "metadata": {},
   "source": [
    "- Find the no of outliers from box plot\n",
    "- Get outloer data & without outliers data separately boxplot"
   ]
  },
  {
   "cell_type": "code",
   "execution_count": 28,
   "id": "72ccf997",
   "metadata": {},
   "outputs": [
    {
     "name": "stdout",
     "output_type": "stream",
     "text": [
      "1422.6578190665782\n"
     ]
    }
   ],
   "source": [
    "balance_data=bank_df['balance']\n",
    "balance_data_mean= np.mean(balance_data)\n",
    "balance_data_std= np.std(balance_data)\n",
    "balance_data_50=np.percentile(balance_data, 50)\n",
    "balance_data_75=np.percentile(balance_data, 75)\n",
    "balance_data_25=np.percentile(balance_data, 25)\n",
    "iqr=balance_data_75-balance_data_25\n",
    "print(balance_data_mean)"
   ]
  },
  {
   "cell_type": "markdown",
   "id": "8ccbaecf",
   "metadata": {},
   "source": [
    "- in box plot outliers lies from q3+1.5(iqr) and q1-1.5(iqr)"
   ]
  },
  {
   "cell_type": "code",
   "execution_count": 31,
   "id": "27c66739",
   "metadata": {},
   "outputs": [
    {
     "name": "stdout",
     "output_type": "stream",
     "text": [
      "      age              job     marital    education default  balance housing  \\\n",
      "1      33       \"services\"   \"married\"  \"secondary\"    \"no\"   4789.0   \"yes\"   \n",
      "10     39       \"services\"   \"married\"  \"secondary\"    \"no\"   9374.0   \"yes\"   \n",
      "16     56     \"technician\"   \"married\"  \"secondary\"    \"no\"   4073.0    \"no\"   \n",
      "25     41     \"management\"   \"married\"   \"tertiary\"    \"no\"   5883.0    \"no\"   \n",
      "30     68        \"retired\"  \"divorced\"  \"secondary\"    \"no\"   4189.0    \"no\"   \n",
      "...   ...              ...         ...          ...     ...      ...     ...   \n",
      "4464   53       \"services\"  \"divorced\"  \"secondary\"    \"no\"   4554.0    \"no\"   \n",
      "4473   33     \"technician\"   \"married\"  \"secondary\"    \"no\"   4790.0   \"yes\"   \n",
      "4489   45     \"management\"   \"married\"   \"tertiary\"    \"no\"   6945.0    \"no\"   \n",
      "4500   38         \"admin.\"   \"married\"  \"secondary\"    \"no\"   4196.0   \"yes\"   \n",
      "4517   57  \"self-employed\"   \"married\"   \"tertiary\"   \"yes\"  -3313.0   \"yes\"   \n",
      "\n",
      "       loan      contact  day  month  duration  campaign  pdays  previous  \\\n",
      "1     \"yes\"   \"cellular\"   11  \"may\"       220         1    339         4   \n",
      "10     \"no\"    \"unknown\"   20  \"may\"       273         1     -1         0   \n",
      "16     \"no\"   \"cellular\"   27  \"aug\"       239         5     -1         0   \n",
      "25     \"no\"   \"cellular\"   20  \"nov\"       182         2     -1         0   \n",
      "30     \"no\"  \"telephone\"   14  \"jul\"       897         2     -1         0   \n",
      "...     ...          ...  ...    ...       ...       ...    ...       ...   \n",
      "4464   \"no\"   \"cellular\"    5  \"feb\"         8         6     -1         0   \n",
      "4473   \"no\"   \"cellular\"   20  \"apr\"       137         1    272         2   \n",
      "4489   \"no\"   \"cellular\"    5  \"aug\"       131         5    356         3   \n",
      "4500   \"no\"   \"cellular\"   12  \"may\"       193         2     -1         0   \n",
      "4517  \"yes\"    \"unknown\"    9  \"may\"       153         1     -1         0   \n",
      "\n",
      "       poutcome      y  \n",
      "1     \"failure\"   \"no\"  \n",
      "10    \"unknown\"   \"no\"  \n",
      "16    \"unknown\"   \"no\"  \n",
      "25    \"unknown\"   \"no\"  \n",
      "30    \"unknown\"  \"yes\"  \n",
      "...         ...    ...  \n",
      "4464  \"unknown\"   \"no\"  \n",
      "4473  \"failure\"   \"no\"  \n",
      "4489  \"failure\"   \"no\"  \n",
      "4500  \"unknown\"   \"no\"  \n",
      "4517  \"unknown\"   \"no\"  \n",
      "\n",
      "[506 rows x 17 columns]\n"
     ]
    }
   ],
   "source": [
    "con1=balance_data<(balance_data_25-1.5*iqr)\n",
    "con2=balance_data>(balance_data_75+1.5*iqr)\n",
    "con =con1 | con2\n",
    "val= bank_df[con]\n",
    "print(val)\n"
   ]
  },
  {
   "cell_type": "code",
   "execution_count": 32,
   "id": "0ac1ceb4",
   "metadata": {},
   "outputs": [
    {
     "name": "stdout",
     "output_type": "stream",
     "text": [
      "1       4789.0\n",
      "10      9374.0\n",
      "16      4073.0\n",
      "25      5883.0\n",
      "30      4189.0\n",
      "         ...  \n",
      "4464    4554.0\n",
      "4473    4790.0\n",
      "4489    6945.0\n",
      "4500    4196.0\n",
      "4517   -3313.0\n",
      "Name: balance, Length: 506, dtype: float64\n"
     ]
    },
    {
     "data": {
      "text/plain": [
       "506"
      ]
     },
     "execution_count": 32,
     "metadata": {},
     "output_type": "execute_result"
    }
   ],
   "source": [
    "outliers=balance_data[con]\n",
    "print(outliers)\n",
    "len(outliers)"
   ]
  },
  {
   "cell_type": "code",
   "execution_count": 33,
   "id": "8a9d8dc8",
   "metadata": {},
   "outputs": [
    {
     "name": "stdout",
     "output_type": "stream",
     "text": [
      "      age             job    marital    education default  balance housing  \\\n",
      "0      30    \"unemployed\"  \"married\"    \"primary\"    \"no\"   1787.0    \"no\"   \n",
      "2      35    \"management\"   \"single\"   \"tertiary\"    \"no\"   1350.0   \"yes\"   \n",
      "3      30    \"management\"  \"married\"   \"tertiary\"    \"no\"   1476.0   \"yes\"   \n",
      "4      59   \"blue-collar\"  \"married\"  \"secondary\"    \"no\"      0.0   \"yes\"   \n",
      "5      35    \"management\"   \"single\"   \"tertiary\"    \"no\"    747.0    \"no\"   \n",
      "...   ...             ...        ...          ...     ...      ...     ...   \n",
      "4515   32      \"services\"   \"single\"  \"secondary\"    \"no\"    473.0   \"yes\"   \n",
      "4516   33      \"services\"  \"married\"  \"secondary\"    \"no\"   -333.0   \"yes\"   \n",
      "4518   57    \"technician\"  \"married\"  \"secondary\"    \"no\"    295.0    \"no\"   \n",
      "4519   28   \"blue-collar\"  \"married\"  \"secondary\"    \"no\"   1137.0    \"no\"   \n",
      "4520   44  \"entrepreneur\"   \"single\"   \"tertiary\"    \"no\"   1136.0   \"yes\"   \n",
      "\n",
      "       loan     contact  day  month  duration  campaign  pdays  previous  \\\n",
      "0      \"no\"  \"cellular\"   19  \"oct\"        79         1     -1         0   \n",
      "2      \"no\"  \"cellular\"   16  \"apr\"       185         1    330         1   \n",
      "3     \"yes\"   \"unknown\"    3  \"jun\"       199         4     -1         0   \n",
      "4      \"no\"   \"unknown\"    5  \"may\"       226         1     -1         0   \n",
      "5      \"no\"  \"cellular\"   23  \"feb\"       141         2    176         3   \n",
      "...     ...         ...  ...    ...       ...       ...    ...       ...   \n",
      "4515   \"no\"  \"cellular\"    7  \"jul\"       624         5     -1         0   \n",
      "4516   \"no\"  \"cellular\"   30  \"jul\"       329         5     -1         0   \n",
      "4518   \"no\"  \"cellular\"   19  \"aug\"       151        11     -1         0   \n",
      "4519   \"no\"  \"cellular\"    6  \"feb\"       129         4    211         3   \n",
      "4520  \"yes\"  \"cellular\"    3  \"apr\"       345         2    249         7   \n",
      "\n",
      "       poutcome     y  \n",
      "0     \"unknown\"  \"no\"  \n",
      "2     \"failure\"  \"no\"  \n",
      "3     \"unknown\"  \"no\"  \n",
      "4     \"unknown\"  \"no\"  \n",
      "5     \"failure\"  \"no\"  \n",
      "...         ...   ...  \n",
      "4515  \"unknown\"  \"no\"  \n",
      "4516  \"unknown\"  \"no\"  \n",
      "4518  \"unknown\"  \"no\"  \n",
      "4519    \"other\"  \"no\"  \n",
      "4520    \"other\"  \"no\"  \n",
      "\n",
      "[4015 rows x 17 columns]\n"
     ]
    }
   ],
   "source": [
    "#data without outliers\n",
    "con1=balance_data>(balance_data_25-1.5*iqr)\n",
    "con2=balance_data<(balance_data_75+1.5*iqr)\n",
    "con =con1 & con2\n",
    "val= bank_df[con]\n",
    "print(val)\n"
   ]
  },
  {
   "cell_type": "code",
   "execution_count": 34,
   "id": "69beb86a",
   "metadata": {},
   "outputs": [
    {
     "name": "stdout",
     "output_type": "stream",
     "text": [
      "0       1787.0\n",
      "2       1350.0\n",
      "3       1476.0\n",
      "4          0.0\n",
      "5        747.0\n",
      "         ...  \n",
      "4515     473.0\n",
      "4516    -333.0\n",
      "4518     295.0\n",
      "4519    1137.0\n",
      "4520    1136.0\n",
      "Name: balance, Length: 4015, dtype: float64\n"
     ]
    },
    {
     "data": {
      "text/plain": [
       "4015"
      ]
     },
     "execution_count": 34,
     "metadata": {},
     "output_type": "execute_result"
    }
   ],
   "source": [
    "non_outliers=balance_data[con]\n",
    "print(non_outliers)\n",
    "len(non_outliers)"
   ]
  },
  {
   "cell_type": "code",
   "execution_count": 35,
   "id": "90306049",
   "metadata": {},
   "outputs": [
    {
     "data": {
      "image/png": "[encoded data removed]",
      "text/plain": [
       "<Figure size 640x480 with 1 Axes>"
      ]
     },
     "metadata": {},
     "output_type": "display_data"
    }
   ],
   "source": [
    "sns.boxplot(data=non_outliers, orient='h')\n",
    "plt.title('Boxplot of Bank Balance without Outliers by Day')\n",
    "plt.xlabel('Balance')\n",
    "plt.ylabel('Day')\n",
    "plt.show()"
   ]
  },
  {
   "cell_type": "code",
   "execution_count": 37,
   "id": "416c5397",
   "metadata": {},
   "outputs": [
    {
     "name": "stdout",
     "output_type": "stream",
     "text": [
      "[1787.0, 4789.0, 1350.0, 1476.0, 0.0, 747.0, 307.0, 147.0, np.float64(444.0), -88.0, 9374.0, 264.0, 1109.0, 502.0, 360.0, np.float64(444.0), 4073.0, np.float64(444.0), -221.0, 132.0, 0.0, np.float64(444.0), 106.0, np.float64(444.0), 543.0, 5883.0, 627.0, np.float64(444.0), 784.0, 105.0, 4189.0, 171.0, 42.0, 2536.0, 1235.0, 1811.0, 229.0, 2089.0, 3935.0, 363.0, 11971.0, 553.0, 1117.0, 396.0, 2204.0, 872.0, 145.0, 0.0, -849.0, 4629.0, 844.0, 228.0, 50.0, 1539.0, 2231.0, 3064.0, 82.0, 2155.0, 101.0, 784.0, -516.0, 415.0, 5887.0, 1355.0, 16873.0, 203.0, 338.0, 444.0, 0.0, 360.0, 0.0, 2.0, 6248.0, np.float64(444.0), 344.0, np.float64(444.0), np.float64(444.0), 591.0, 388.0, 219.0, 451.0, 5.0, 177.0, 657.0, 1315.0, 1466.0, 879.0, 293.0, 424.0, 1831.0, 111.0, 455.0, -195.0, 3616.0, 14093.0, 1567.0, 5426.0, 261.0, 2843.0, 406.0, 0.0, 493.0, 5996.0, 3777.0, 524.0, 574.0, np.float64(444.0), 483.0, 3391.0, 0.0, 2488.0, 1517.0, 217.0, 22.0, 331.0, 505.0, 1808.0, 4111.0, 52.0, np.float64(444.0), 1890.0, 419.0, 2693.0, -231.0, -55.0, 462.0, 119.0, 586.0, 228.0, 4659.0, 168.0, 0.0, -715.0, 0.0, 769.0, 0.0, 428.0, 0.0, -970.0, 6313.0, 948.0, 0.0, np.float64(444.0), np.float64(444.0), 323.0, 106.0, 1906.0, 1152.0, 179.0, 391.0, 89.0, 442.0, -249.0, 8104.0, 501.0, np.float64(444.0), np.float64(444.0), 273.0, 50.0, 1641.0, 20.0, 4590.0, -256.0, 978.0, 80.0, 2104.0, 499.0, 1269.0, np.float64(444.0), 1143.0, 2980.0, 37.0, 462.0, np.float64(444.0), 9009.0, -465.0, 5181.0, np.float64(444.0), 1699.0, 0.0, 172.0, 0.0, 6979.0, 6.0, -62.0, 1972.0, np.float64(444.0), 21.0, 23.0, -1206.0, 0.0, 215.0, 1372.0, 1981.0, 9216.0, 39.0, 5563.0, np.float64(444.0), 782.0, 3771.0, 992.0, 1526.0, 2658.0, 1315.0, 455.0, 0.0, 2030.0, 1599.0, -196.0, 1333.0, 9149.0, -350.0, 432.0, 11494.0, -253.0, 372.0, 1410.0, 975.0, 305.0, np.float64(444.0), -22.0, 4030.0, 365.0, 204.0, 1691.0, 406.0, -204.0, 359.0, 123.0, 0.0, 142.0, 3571.0, 33.0, 0.0, 3096.0, 20.0, 3576.0, 206.0, 7082.0, 1634.0, np.float64(444.0), 4012.0, np.float64(444.0), -247.0, 606.0, 0.0, -189.0, 0.0, 484.0, 0.0, 395.0, 2349.0, 410.0, 3401.0, 222.0, 989.0, 415.0, np.float64(444.0), 7190.0, 482.0, 209.0, 0.0, 5803.0, 624.0, 883.0, 1516.0, 872.0, -988.0, 902.0, 1007.0, 0.0, np.float64(444.0), 12186.0, 524.0, 0.0, 4.0, 11219.0, 0.0, 5776.0, 37.0, 593.0, 1148.0, 3561.0, 63.0, 260.0, 2269.0, 1060.0, -220.0, np.float64(444.0), 69.0, 4108.0, 480.0, 4994.0, 0.0, 3681.0, -701.0, 451.0, -311.0, 593.0, 759.0, 4531.0, 1840.0, 345.0, 1287.0, 353.0, 205.0, 687.0, 1147.0, 4286.0, 605.0, 8545.0, 559.0, 2.0, 2.0, 760.0, 1317.0, np.float64(444.0), np.float64(444.0), 2971.0, 1064.0, 1783.0, -67.0, 179.0, 1199.0, 214.0, 6699.0, 1760.0, 145.0, 978.0, np.float64(444.0), 121.0, 828.0, 244.0, 228.0, 424.0, 447.0, -195.0, 1410.0, 1084.0, 10924.0, 832.0, 478.0, 0.0, 3950.0, np.float64(444.0), 219.0, 1602.0, 2587.0, 0.0, 2303.0, 1660.0, 32.0, np.float64(444.0), 4.0, 318.0, 209.0, 271.0, 3196.0, 4099.0, 2572.0, np.float64(444.0), 0.0, 395.0, np.float64(444.0), 5450.0, 780.0, 0.0, 8436.0, 11262.0, 946.0, np.float64(444.0), 55.0, -140.0, -379.0, -396.0, 0.0, 733.0, 393.0, 7290.0, np.float64(444.0), 0.0, 3705.0, 9676.0, 1328.0, 8.0, 61.0, 6613.0, 302.0, np.float64(444.0), 109.0, 1240.0, 0.0, 2923.0, 0.0, 43.0, 288.0, 613.0, 6101.0, 168.0, 7685.0, 4515.0, 517.0, 148.0, -285.0, 887.0, 3098.0, np.float64(444.0), 130.0, 438.0, 0.0, 322.0, 186.0, np.float64(444.0), 0.0, 4380.0, 755.0, np.float64(444.0), 999.0, 167.0, 1322.0, 1076.0, 502.0, np.float64(444.0), 876.0, 342.0, 950.0, np.float64(444.0), 3825.0, 2366.0, 542.0, 995.0, 20.0, 228.0, 130.0, 217.0, 0.0, 259.0, np.float64(444.0), 644.0, 22.0, 4303.0, 239.0, 275.0, 1221.0, 816.0, 1222.0, 2363.0, 2262.0, 2.0, 2.0, 4508.0, -402.0, 1577.0, 34.0, 795.0, np.float64(444.0), 5462.0, 402.0, 641.0, 36.0, 383.0, 283.0, 0.0, 3102.0, np.float64(444.0), 0.0, -370.0, -606.0, 10378.0, 1313.0, 8969.0, -196.0, 15.0, 4608.0, 666.0, 452.0, 149.0, 7802.0, 1453.0, np.float64(444.0), 715.0, 237.0, 694.0, 0.0, 55.0, 136.0, -404.0, 779.0, 1187.0, 641.0, 826.0, np.float64(444.0), 1796.0, 22.0, 244.0, 1328.0, 7317.0, 4943.0, np.float64(444.0), 515.0, 12607.0, 2.0, 13.0, np.float64(444.0), 3872.0, 296.0, 217.0, 360.0, 428.0, 315.0, 121.0, 820.0, 195.0, 108.0, -381.0, 757.0, 691.0, 1925.0, 902.0, 5207.0, 0.0, 665.0, 738.0, 233.0, -839.0, 5799.0, 1033.0, 66.0, 2567.0, 1584.0, np.float64(444.0), 76.0, 663.0, 3455.0, 15.0, 1054.0, 1529.0, 63.0, 0.0, 920.0, 3696.0, 59.0, 0.0, 157.0, np.float64(444.0), 0.0, 2.0, 0.0, 12437.0, np.float64(444.0), 211.0, -228.0, 2747.0, 1932.0, 11269.0, 1314.0, 2275.0, 1304.0, 720.0, 2914.0, 1464.0, 11555.0, -302.0, 2497.0, -339.0, 56.0, 211.0, 3611.0, 0.0, 459.0, np.float64(444.0), 1138.0, 1319.0, np.float64(444.0), 67.0, 937.0, 0.0, -558.0, 171.0, np.float64(444.0), 361.0, 227.0, 236.0, -53.0, 192.0, np.float64(444.0), 518.0, np.float64(444.0), -256.0, 105.0, 334.0, 1048.0, 108.0, 660.0, 0.0, 1034.0, 201.0, 189.0, -49.0, 1413.0, 264.0, 54.0, 12519.0, np.float64(444.0), 0.0, 88.0, 1020.0, 119.0, 1594.0, 342.0, np.float64(444.0), 14.0, 81.0, 231.0, 1161.0, -45.0, 231.0, 36.0, 1570.0, 7050.0, 3704.0, 6619.0, -84.0, 1509.0, 1134.0, 146.0, 9449.0, 374.0, 88.0, 2764.0, 2.0, 8023.0, 289.0, 0.0, 1382.0, 280.0, 2195.0, 33.0, 275.0, 703.0, 887.0, 0.0, 1178.0, 2763.0, 890.0, np.float64(444.0), np.float64(444.0), 6269.0, 178.0, 252.0, 23663.0, 81.0, 59.0, 1343.0, 225.0, 0.0, 2538.0, 43.0, 57.0, -117.0, 666.0, 0.0, np.float64(444.0), 1034.0, 324.0, 0.0, 0.0, np.float64(444.0), 138.0, 4063.0, 11084.0, np.float64(444.0), 73.0, 1808.0, 1281.0, np.float64(444.0), 2.0, 60.0, 133.0, 3706.0, np.float64(444.0), 251.0, 4153.0, 985.0, 168.0, 1550.0, 7708.0, -12.0, 6483.0, 60.0, 3339.0, 1161.0, 599.0, 28.0, 1430.0, 35.0, 6000.0, 0.0, 340.0, 0.0, 3.0, 445.0, np.float64(444.0), 705.0, 1033.0, 1354.0, 123.0, 8894.0, 429.0, 14752.0, 67.0, 39.0, np.float64(444.0), 1790.0, 15311.0, -635.0, 115.0, 10786.0, 498.0, 1045.0, 810.0, -162.0, 55.0, 586.0, 455.0, np.float64(444.0), 509.0, 2929.0, 3071.0, np.float64(444.0), 1146.0, 1092.0, 3463.0, 1158.0, 26.0, 566.0, 204.0, 480.0, 1855.0, 1034.0, 3250.0, 1633.0, 0.0, 3334.0, 4020.0, 66.0, -41.0, 322.0, 2643.0, np.float64(444.0), np.float64(444.0), 3098.0, 352.0, 65.0, 1949.0, 739.0, 1167.0, 231.0, 1136.0, 233.0, 817.0, 1128.0, 1831.0, np.float64(444.0), 0.0, np.float64(444.0), 1052.0, 1022.0, np.float64(444.0), 1944.0, -32.0, 1781.0, 350.0, 2.0, 111.0, 168.0, 3.0, np.float64(444.0), 0.0, 159.0, 1134.0, 352.0, 865.0, 179.0, 5.0, -230.0, 0.0, 3924.0, 764.0, 511.0, 4348.0, 3016.0, 279.0, 1405.0, 908.0, 162.0, 792.0, 111.0, 1281.0, 1012.0, np.float64(444.0), 445.0, 643.0, 254.0, -1212.0, 2125.0, 629.0, -202.0, 271.0, 703.0, -216.0, 88.0, np.float64(444.0), 466.0, -75.0, np.float64(444.0), 77.0, -244.0, 1209.0, 58.0, 421.0, 112.0, 13669.0, np.float64(444.0), 794.0, 1957.0, 454.0, 882.0, 168.0, np.float64(444.0), 0.0, 1996.0, 163.0, 3190.0, 1772.0, -151.0, np.float64(444.0), 7066.0, 454.0, 4798.0, -298.0, 439.0, np.float64(444.0), 671.0, 65.0, -932.0, 4366.0, 0.0, 4900.0, 976.0, 148.0, 5.0, -148.0, 113.0, -105.0, 624.0, -1680.0, -461.0, 144.0, 4.0, 309.0, np.float64(444.0), 1020.0, 489.0, 8167.0, -255.0, 3671.0, 636.0, 141.0, 150.0, np.float64(444.0), 26965.0, 716.0, 2485.0, 15030.0, 11303.0, 595.0, 19358.0, 203.0, 183.0, 255.0, np.float64(444.0), np.float64(444.0), 58.0, 606.0, 0.0, 65.0, 338.0, 757.0, 9269.0, np.float64(444.0), 882.0, 5291.0, 61.0, 0.0, np.float64(444.0), np.float64(444.0), 1354.0, 793.0, 10287.0, 5235.0, 3.0, 409.0, 35.0, -459.0, 198.0, 99.0, 60.0, np.float64(444.0), -139.0, 952.0, 1427.0, 1017.0, -29.0, 9.0, 4040.0, 13.0, 1259.0, 18.0, -76.0, np.float64(444.0), 136.0, 16353.0, -63.0, 7353.0, 511.0, 3913.0, 1097.0, 6102.0, 340.0, -119.0, 2993.0, 3575.0, 361.0, 1072.0, 2904.0, 1790.0, 86.0, 1633.0, 8312.0, 172.0, 0.0, 222.0, 109.0, np.float64(444.0), 1066.0, 3163.0, 888.0, 428.0, 106.0, 0.0, 979.0, 2662.0, 84.0, 5920.0, 816.0, 3276.0, 2.0, -51.0, 3315.0, np.float64(444.0), 552.0, 2347.0, 3723.0, 255.0, 3143.0, 0.0, 6411.0, 1909.0, 3873.0, 1013.0, np.float64(444.0), 3217.0, 5436.0, 2067.0, 215.0, 1594.0, 134.0, np.float64(444.0), 3021.0, 388.0, 3412.0, 1291.0, 79.0, 2013.0, 543.0, 1016.0, 604.0, np.float64(444.0), 353.0, 964.0, 3913.0, 879.0, 314.0, 0.0, 1370.0, 37.0, 673.0, -342.0, 291.0, 209.0, 438.0, 1242.0, 355.0, 204.0, 10758.0, 5.0, 410.0, 605.0, 4.0, 8494.0, 198.0, 841.0, 8.0, np.float64(444.0), 520.0, 439.0, -454.0, 466.0, 665.0, 994.0, 5346.0, 1243.0, 0.0, 2357.0, 1044.0, np.float64(444.0), 231.0, 0.0, 266.0, -70.0, 25824.0, 538.0, 534.0, 2323.0, 1852.0, 2647.0, 2767.0, np.float64(444.0), 9720.0, 1613.0, np.float64(444.0), 81.0, 780.0, 178.0, 299.0, 285.0, 872.0, 1337.0, np.float64(444.0), 0.0, -388.0, 11.0, -535.0, np.float64(444.0), 3343.0, 3904.0, 736.0, 1390.0, 808.0, 1147.0, np.float64(444.0), -568.0, 1165.0, -905.0, 0.0, 740.0, 8262.0, 14.0, 7108.0, 1049.0, 0.0, 419.0, 726.0, 594.0, 454.0, 2206.0, 1988.0, 0.0, 202.0, 667.0, 112.0, 50.0, 768.0, 74.0, 661.0, np.float64(444.0), 751.0, 416.0, 14.0, -502.0, 0.0, 599.0, -218.0, 1012.0, np.float64(444.0), 217.0, np.float64(444.0), 0.0, 5278.0, 1831.0, np.float64(444.0), 7289.0, 1665.0, 851.0, 2885.0, 137.0, np.float64(444.0), 146.0, np.float64(444.0), -10.0, 480.0, 2789.0, 3897.0, 487.0, 5110.0, 318.0, -411.0, 4820.0, 4937.0, 725.0, 5403.0, 4089.0, 188.0, 189.0, 2998.0, 610.0, np.float64(444.0), 167.0, 243.0, np.float64(444.0), 2817.0, 4567.0, 127.0, np.float64(444.0), 0.0, 1482.0, np.float64(444.0), 56.0, np.float64(444.0), np.float64(444.0), -337.0, 366.0, 501.0, 998.0, 0.0, 246.0, -182.0, 446.0, 1173.0, 5957.0, 205.0, 0.0, 369.0, 1934.0, 259.0, 284.0, 23.0, 1373.0, np.float64(444.0), 157.0, np.float64(444.0), 186.0, 977.0, 2893.0, 1897.0, 5514.0, np.float64(444.0), 273.0, 1193.0, 2729.0, 0.0, 230.0, 2729.0, 317.0, 517.0, -470.0, 4579.0, np.float64(444.0), 5106.0, 636.0, 1076.0, 126.0, -33.0, 430.0, -6.0, 383.0, 130.0, np.float64(444.0), 201.0, 0.0, 6.0, 475.0, 706.0, 1825.0, 185.0, 4415.0, np.float64(444.0), 320.0, 2988.0, np.float64(444.0), 1270.0, 654.0, 5173.0, 3463.0, 0.0, 6016.0, 177.0, 3694.0, 1640.0, np.float64(444.0), 10177.0, 490.0, 2576.0, 0.0, 598.0, 15459.0, 271.0, 2508.0, 320.0, 640.0, 1772.0, 15.0, 2370.0, 201.0, 160.0, 5.0, 75.0, 4902.0, -79.0, 1341.0, 490.0, 1521.0, 131.0, 8.0, -632.0, 116.0, 189.0, 2.0, 4229.0, 54.0, 549.0, 298.0, 579.0, 1467.0, 0.0, 109.0, -11.0, 90.0, 493.0, 1897.0, 2403.0, 868.0, 653.0, 0.0, 0.0, 218.0, 5050.0, 741.0, 1050.0, -56.0, np.float64(444.0), -98.0, 4667.0, 541.0, 7744.0, 895.0, -129.0, 0.0, 158.0, 122.0, 673.0, 0.0, 411.0, -97.0, -217.0, 5037.0, np.float64(444.0), -932.0, 913.0, 236.0, 0.0, 2581.0, 639.0, 849.0, np.float64(444.0), 1218.0, 2603.0, -921.0, 607.0, 79.0, 61.0, 1091.0, 743.0, 209.0, 172.0, 2.0, 41.0, 1116.0, -55.0, 5845.0, 329.0, 494.0, 1519.0, 2685.0, -14.0, 5673.0, 1459.0, 0.0, 625.0, 0.0, 867.0, 8304.0, 151.0, -583.0, 1784.0, np.float64(444.0), np.float64(444.0), -346.0, 1623.0, 60.0, 17.0, 2008.0, 91.0, 171.0, 1027.0, 5801.0, 142.0, 205.0, 852.0, -584.0, 97.0, 204.0, 628.0, 311.0, 1564.0, 856.0, 1509.0, -888.0, 226.0, 127.0, 413.0, 710.0, 1233.0, 171.0, 69.0, 1499.0, 751.0, 61.0, 425.0, 2923.0, 99.0, np.float64(444.0), 1146.0, 781.0, 1448.0, 604.0, -194.0, 0.0, 0.0, 1014.0, 73.0, 2597.0, 2627.0, 1906.0, -319.0, -296.0, 169.0, 556.0, np.float64(444.0), 751.0, 126.0, -386.0, 379.0, 706.0, 9121.0, 1466.0, 0.0, 951.0, np.float64(444.0), 121.0, 204.0, 299.0, 4170.0, -335.0, 3165.0, 254.0, 553.0, 518.0, 85.0, 603.0, 361.0, -98.0, 4424.0, np.float64(444.0), np.float64(444.0), 687.0, np.float64(444.0), 341.0, 316.0, 2.0, 415.0, 507.0, 912.0, 0.0, 37.0, 2524.0, 9019.0, 39.0, 0.0, 265.0, 0.0, 4012.0, 1520.0, -140.0, 852.0, 578.0, 0.0, 2253.0, 1171.0, 452.0, -97.0, 4738.0, 467.0, 0.0, 495.0, 157.0, np.float64(444.0), np.float64(444.0), 7343.0, -563.0, 351.0, 365.0, 13494.0, np.float64(444.0), np.float64(444.0), -28.0, 0.0, 2927.0, 501.0, 1238.0, 301.0, 1388.0, np.float64(444.0), 13.0, 413.0, 4665.0, 638.0, 101.0, 1224.0, 1103.0, 3748.0, 955.0, 518.0, 1893.0, 14.0, -423.0, 3696.0, 2987.0, 433.0, 756.0, 0.0, 2727.0, np.float64(444.0), 1766.0, 124.0, 69.0, 0.0, 0.0, 259.0, 4103.0, np.float64(444.0), 116.0, 70.0, 432.0, 1172.0, 9.0, 428.0, 7546.0, np.float64(444.0), 8647.0, 192.0, 0.0, 27733.0, np.float64(444.0), 113.0, 782.0, 82.0, 1008.0, 6421.0, 443.0, 351.0, 5060.0, -41.0, -124.0, 79.0, 3945.0, 197.0, np.float64(444.0), -94.0, 1743.0, 57.0, 635.0, -113.0, 225.0, 124.0, 475.0, -7.0, 375.0, 936.0, 1415.0, 0.0, 3638.0, -99.0, 167.0, 19.0, np.float64(444.0), 13.0, 286.0, 769.0, np.float64(444.0), 1663.0, np.float64(444.0), 2178.0, 792.0, np.float64(444.0), 1025.0, 63.0, np.float64(444.0), 417.0, 3992.0, 2749.0, 133.0, 1721.0, 2171.0, 4760.0, 2979.0, 690.0, 203.0, 322.0, 1210.0, 634.0, 273.0, 47.0, 1100.0, 0.0, 0.0, 1544.0, 6145.0, 28.0, 1012.0, 245.0, 1998.0, 3990.0, 1328.0, np.float64(444.0), 229.0, np.float64(444.0), 3432.0, 144.0, 1339.0, np.float64(444.0), 7727.0, 204.0, 101.0, 728.0, 2418.0, 2934.0, 0.0, 181.0, np.float64(444.0), np.float64(444.0), 2023.0, 372.0, 7702.0, 464.0, np.float64(444.0), 104.0, 1041.0, 539.0, 0.0, 406.0, 2558.0, 484.0, 3516.0, 5639.0, 100.0, np.float64(444.0), 815.0, 245.0, 191.0, 2815.0, np.float64(444.0), 1572.0, 385.0, 29.0, 84.0, 876.0, 1499.0, 0.0, 6217.0, 329.0, 162.0, 14533.0, 151.0, -2.0, 4684.0, 1149.0, 11.0, 8004.0, 1019.0, 1297.0, 415.0, 671.0, 2378.0, 417.0, 71.0, 1188.0, 8139.0, 249.0, 689.0, 203.0, -183.0, 3451.0, 116.0, 1746.0, 0.0, 897.0, 821.0, 130.0, np.float64(444.0), 8.0, 55.0, 699.0, 759.0, 687.0, 4968.0, np.float64(444.0), 426.0, 376.0, 12.0, 23.0, 353.0, 330.0, 0.0, 353.0, 2273.0, 0.0, np.float64(444.0), 608.0, 356.0, 1291.0, -306.0, 306.0, -312.0, 493.0, 71.0, np.float64(444.0), 556.0, 84.0, 108.0, -11.0, 1164.0, -191.0, 132.0, 2237.0, 4761.0, -346.0, 655.0, 1048.0, 0.0, 624.0, 1784.0, 1281.0, 569.0, np.float64(444.0), 168.0, 263.0, -405.0, 279.0, 0.0, np.float64(444.0), 415.0, 0.0, 1322.0, 1062.0, 302.0, 809.0, -278.0, 3238.0, 751.0, -28.0, 0.0, 2442.0, 1798.0, 132.0, 260.0, 7.0, 3283.0, 323.0, 2960.0, 486.0, np.float64(444.0), 507.0, 5958.0, 304.0, 118.0, 123.0, 76.0, 70.0, 960.0, 2185.0, 309.0, 2190.0, 0.0, 3732.0, 1550.0, np.float64(444.0), 704.0, 4415.0, 4.0, np.float64(444.0), np.float64(444.0), 97.0, 410.0, 1191.0, -47.0, 197.0, 6.0, np.float64(444.0), 630.0, 235.0, 1910.0, 3172.0, 872.0, 407.0, 100.0, 345.0, 2058.0, np.float64(444.0), 0.0, 51.0, 150.0, 34.0, 795.0, 282.0, 2139.0, -469.0, 197.0, 825.0, 3232.0, 1598.0, np.float64(444.0), 83.0, 1445.0, 226.0, -55.0, 243.0, -336.0, np.float64(444.0), 0.0, 251.0, 44.0, 2887.0, 1992.0, 2.0, 1415.0, 297.0, 1094.0, -84.0, -1.0, 347.0, 1253.0, 4565.0, 781.0, 7124.0, 17555.0, 5172.0, 15520.0, 13711.0, 1533.0, 286.0, -219.0, 0.0, 810.0, np.float64(444.0), 1175.0, 0.0, 113.0, 641.0, 1477.0, 0.0, 8.0, np.float64(444.0), -435.0, 2830.0, 15.0, 125.0, 45.0, 13.0, 0.0, 579.0, 432.0, 1987.0, 857.0, 15834.0, 3370.0, 6290.0, 808.0, 4075.0, 373.0, -101.0, 3250.0, np.float64(444.0), 180.0, 175.0, np.float64(444.0), 2171.0, 340.0, np.float64(444.0), 4958.0, 21244.0, 156.0, np.float64(444.0), 781.0, 0.0, 1819.0, np.float64(444.0), np.float64(444.0), 253.0, 774.0, -59.0, -81.0, 0.0, 0.0, -3.0, 2488.0, 3.0, np.float64(444.0), np.float64(444.0), 316.0, 1680.0, 7179.0, 247.0, 8295.0, 261.0, 95.0, 291.0, 2240.0, 0.0, 1295.0, 324.0, np.float64(444.0), 4143.0, 2646.0, 618.0, 541.0, 434.0, 622.0, 0.0, 99.0, np.float64(444.0), 1230.0, 45.0, 923.0, 950.0, 1503.0, 65.0, -679.0, 773.0, 10788.0, np.float64(444.0), 247.0, 4143.0, -406.0, 180.0, -887.0, 4157.0, 1386.0, 2211.0, -495.0, 27359.0, np.float64(444.0), 135.0, -735.0, 60.0, 902.0, 18347.0, -72.0, 1205.0, 499.0, 656.0, 100.0, 69.0, np.float64(444.0), 192.0, 0.0, 87.0, 3228.0, 1361.0, 0.0, 34.0, 318.0, 197.0, 0.0, 273.0, 15.0, 7813.0, -27.0, 75.0, 1139.0, 115.0, 0.0, 7195.0, -477.0, 1026.0, np.float64(444.0), 980.0, -179.0, 2552.0, 1729.0, 434.0, -300.0, 4785.0, -329.0, 0.0, 391.0, 4657.0, 3472.0, 705.0, 255.0, 4365.0, 350.0, 474.0, 489.0, 757.0, 695.0, -770.0, 80.0, 315.0, np.float64(444.0), 0.0, 2169.0, 212.0, 333.0, np.float64(444.0), 257.0, 3188.0, 3083.0, 226.0, 1260.0, 1410.0, 6046.0, 980.0, -37.0, -154.0, 680.0, 799.0, -1164.0, 2523.0, 98.0, 3419.0, np.float64(444.0), 852.0, 50.0, 0.0, np.float64(444.0), 950.0, 0.0, 175.0, -259.0, 6217.0, -1310.0, np.float64(444.0), 7138.0, 1111.0, 113.0, -612.0, np.float64(444.0), -186.0, np.float64(444.0), 833.0, 625.0, 105.0, 551.0, 145.0, 618.0, 1063.0, 985.0, 2926.0, -449.0, 66.0, 0.0, 419.0, 4758.0, -23.0, 1573.0, 77.0, 1378.0, -73.0, 60.0, 137.0, 1583.0, -121.0, 1065.0, -13.0, 1869.0, 4787.0, -183.0, 702.0, 1494.0, 0.0, 46.0, 609.0, 4079.0, 0.0, 7876.0, 925.0, 7010.0, 42.0, 285.0, 0.0, 3170.0, 8.0, 216.0, 2975.0, 894.0, 490.0, 245.0, 0.0, 150.0, 4.0, 1727.0, 664.0, np.float64(444.0), 0.0, -192.0, 1942.0, 5137.0, 13044.0, 1053.0, 154.0, 625.0, 255.0, 529.0, 318.0, 1903.0, 1937.0, np.float64(444.0), 4198.0, 230.0, 747.0, 263.0, -46.0, 0.0, 568.0, 1469.0, 18.0, 201.0, np.float64(444.0), -93.0, -331.0, 486.0, 694.0, np.float64(444.0), 0.0, 2959.0, 22.0, 1167.0, 35.0, 8304.0, 4760.0, -1313.0, 697.0, 230.0, np.float64(444.0), 1427.0, 201.0, 1086.0, 4335.0, 44.0, 286.0, 216.0, 214.0, np.float64(444.0), -77.0, 1046.0, 1566.0, 592.0, 104.0, 0.0, -22.0, 0.0, np.float64(444.0), 100.0, 319.0, 9339.0, 50.0, 32.0, 6922.0, 633.0, 4265.0, 2262.0, 1970.0, 1513.0, 4659.0, 668.0, 649.0, 452.0, -145.0, -498.0, 0.0, 22.0, 2304.0, np.float64(444.0), 145.0, 4897.0, 1832.0, 3726.0, 591.0, 0.0, 508.0, 817.0, 348.0, 291.0, 3554.0, 781.0, 267.0, 1327.0, -306.0, np.float64(444.0), np.float64(444.0), 0.0, 214.0, 425.0, 3.0, 0.0, 0.0, 282.0, 0.0, 3727.0, 0.0, np.float64(444.0), 4089.0, -478.0, -363.0, 8883.0, 1970.0, 1859.0, 1059.0, 388.0, np.float64(444.0), 0.0, 255.0, 63.0, 712.0, 57.0, 523.0, 422.0, np.float64(444.0), 3387.0, 260.0, -1.0, 1490.0, np.float64(444.0), 1707.0, 826.0, 907.0, 1836.0, 404.0, 907.0, 18.0, -495.0, 1210.0, 819.0, 442.0, -46.0, 671.0, 371.0, -3.0, 11.0, 33.0, 104.0, np.float64(444.0), 3107.0, 1438.0, 1367.0, -11.0, 1693.0, 778.0, np.float64(444.0), 363.0, 236.0, 0.0, -50.0, 4.0, 26306.0, 46.0, 575.0, 148.0, 431.0, 777.0, np.float64(444.0), 3552.0, 47.0, 3823.0, 138.0, 1117.0, 1325.0, 0.0, 4343.0, 1598.0, np.float64(444.0), np.float64(444.0), -280.0, 1534.0, 1671.0, np.float64(444.0), 0.0, np.float64(444.0), np.float64(444.0), 573.0, 475.0, 47.0, 2154.0, np.float64(444.0), 83.0, 6766.0, 3973.0, 372.0, -552.0, 48.0, 7696.0, np.float64(444.0), np.float64(444.0), 46.0, -18.0, 451.0, 479.0, 0.0, 1130.0, 389.0, np.float64(444.0), 401.0, 145.0, 115.0, 89.0, np.float64(444.0), 1438.0, 780.0, 207.0, np.float64(444.0), 2433.0, 1924.0, -471.0, 1531.0, 764.0, 383.0, 3782.0, 326.0, 691.0, 0.0, 99.0, 502.0, -15.0, 1929.0, 0.0, 185.0, -424.0, 0.0, 319.0, 171.0, -1148.0, -11.0, 0.0, -206.0, 704.0, np.float64(444.0), 943.0, 327.0, -105.0, 983.0, np.float64(444.0), 0.0, 3060.0, 5780.0, np.float64(444.0), 1449.0, np.float64(444.0), 681.0, 228.0, 0.0, 2087.0, 2.0, 197.0, 0.0, 1905.0, 118.0, 2644.0, 16430.0, 13.0, 14.0, 769.0, np.float64(444.0), np.float64(444.0), 202.0, 6.0, 2515.0, 5195.0, 2098.0, 320.0, 3431.0, 50.0, 370.0, -182.0, 1623.0, 13342.0, 6570.0, 225.0, -665.0, 0.0, 54.0, 46.0, 2.0, np.float64(444.0), 883.0, 55.0, 8238.0, 913.0, 595.0, 7.0, 1661.0, np.float64(444.0), 338.0, 3132.0, 490.0, np.float64(444.0), 0.0, 596.0, 2059.0, 132.0, 0.0, 385.0, 223.0, 0.0, 512.0, 1169.0, 71.0, 940.0, -80.0, 0.0, 1317.0, 179.0, 1007.0, 0.0, 1286.0, 804.0, 4.0, 0.0, 417.0, 1678.0, 532.0, 407.0, 659.0, 393.0, 661.0, 0.0, 838.0, 195.0, 68.0, -242.0, 321.0, 3403.0, 8.0, 739.0, 622.0, 152.0, 2.0, 1439.0, 1491.0, 6402.0, 1210.0, 122.0, 0.0, np.float64(444.0), 3333.0, 16992.0, 23.0, 0.0, 6072.0, 366.0, 0.0, 1343.0, np.float64(444.0), 2319.0, 35.0, np.float64(444.0), np.float64(444.0), -2082.0, 89.0, 104.0, 1750.0, 772.0, 1048.0, 592.0, 0.0, 3064.0, 33.0, 0.0, 1649.0, 287.0, 0.0, 419.0, 257.0, 118.0, 251.0, 1731.0, 0.0, 23.0, -386.0, 5498.0, 5063.0, 7041.0, 654.0, 1890.0, 2400.0, np.float64(444.0), 1190.0, 229.0, 203.0, 1818.0, 1289.0, 39.0, 796.0, 57.0, np.float64(444.0), np.float64(444.0), 0.0, 691.0, np.float64(444.0), 0.0, 957.0, 118.0, 218.0, 724.0, 20.0, -28.0, 665.0, 5.0, 925.0, 2519.0, 3927.0, 401.0, 581.0, 1327.0, 3242.0, 3163.0, 32.0, np.float64(444.0), 0.0, 155.0, 11386.0, 1380.0, 2443.0, 1129.0, 4232.0, 5564.0, -402.0, 1323.0, 1623.0, 1042.0, 2488.0, 865.0, -1053.0, 1667.0, 975.0, np.float64(444.0), 732.0, 769.0, -136.0, 3636.0, 931.0, 565.0, 271.0, 1153.0, -73.0, 558.0, 137.0, 700.0, -966.0, np.float64(444.0), 4007.0, np.float64(444.0), np.float64(444.0), 136.0, 917.0, 593.0, 505.0, 2542.0, 5355.0, 807.0, 9976.0, 0.0, np.float64(444.0), 280.0, -59.0, -517.0, 2613.0, -7.0, 0.0, -200.0, 2301.0, 104.0, 191.0, 694.0, 212.0, 1882.0, 131.0, 175.0, 0.0, 4425.0, 3533.0, 3573.0, 476.0, np.float64(444.0), 23.0, 0.0, 398.0, 745.0, 8106.0, 0.0, np.float64(444.0), 1266.0, 2416.0, np.float64(444.0), 7513.0, 29.0, 5116.0, -1746.0, 14.0, 4148.0, 14.0, 105.0, 767.0, 0.0, -228.0, 508.0, 725.0, 41.0, 184.0, 251.0, -17.0, -19.0, 1064.0, 777.0, 377.0, 479.0, -375.0, 796.0, 17.0, 1071.0, 0.0, 7378.0, 865.0, -701.0, 817.0, 1387.0, 0.0, 2917.0, 4541.0, 0.0, 4287.0, np.float64(444.0), 171.0, 259.0, 827.0, 469.0, 2226.0, 0.0, np.float64(444.0), 42.0, 775.0, 9.0, 2557.0, 2395.0, 4895.0, 376.0, 389.0, 134.0, 1273.0, 0.0, 2892.0, 0.0, 295.0, np.float64(444.0), 85.0, 4.0, -587.0, np.float64(444.0), -1224.0, 959.0, 0.0, -589.0, -8.0, 0.0, 247.0, 5543.0, 642.0, 11.0, -226.0, 5191.0, -320.0, 2289.0, 725.0, 705.0, 776.0, 816.0, 171.0, 812.0, 823.0, 1453.0, 431.0, 1009.0, 286.0, 22370.0, 2111.0, 5366.0, 181.0, -452.0, 1770.0, 0.0, -296.0, 2358.0, 1200.0, 109.0, 616.0, 4906.0, 313.0, np.float64(444.0), 1240.0, np.float64(444.0), 19.0, 143.0, 212.0, 9.0, 3074.0, 1734.0, 575.0, np.float64(444.0), 640.0, 158.0, 2984.0, 1011.0, 0.0, 1133.0, 4945.0, 712.0, -427.0, np.float64(444.0), 92.0, np.float64(444.0), 1238.0, 981.0, 575.0, -70.0, 3733.0, 574.0, 43.0, 428.0, 0.0, 0.0, 474.0, -540.0, 560.0, np.float64(444.0), 437.0, 574.0, 0.0, 935.0, 699.0, 0.0, -220.0, 11417.0, 212.0, 67.0, 0.0, 0.0, 1673.0, -1202.0, 4213.0, 0.0, 1521.0, 1310.0, 0.0, np.float64(444.0), 405.0, 9756.0, 2506.0, 697.0, 403.0, 890.0, 809.0, 158.0, 137.0, 2705.0, 75.0, 2457.0, 541.0, 287.0, 273.0, 0.0, 677.0, 340.0, 98.0, np.float64(444.0), 2629.0, 0.0, 2325.0, -20.0, 230.0, -852.0, -280.0, np.float64(444.0), 9851.0, 5095.0, 687.0, 1368.0, -179.0, -396.0, 1011.0, 9.0, 1159.0, -322.0, 1114.0, 2072.0, 459.0, 1157.0, 8309.0, 1043.0, 2098.0, 461.0, 61.0, np.float64(444.0), np.float64(444.0), 0.0, 1657.0, 1219.0, 7.0, -839.0, 994.0, 6.0, 0.0, 8627.0, 133.0, 247.0, 1114.0, np.float64(444.0), 0.0, 46.0, 1221.0, 985.0, 0.0, 520.0, np.float64(444.0), 2157.0, 6095.0, 133.0, np.float64(444.0), 88.0, 0.0, -328.0, 610.0, np.float64(444.0), 0.0, 0.0, 685.0, 22856.0, -352.0, np.float64(444.0), -588.0, 302.0, 5314.0, np.float64(444.0), 632.0, 5731.0, 902.0, 6307.0, 112.0, 0.0, np.float64(444.0), 435.0, 782.0, 478.0, 7864.0, 1910.0, 1174.0, 1270.0, 18.0, 141.0, 2886.0, 2715.0, 1100.0, 516.0, np.float64(444.0), 775.0, 634.0, 5715.0, 1088.0, 1532.0, 75.0, np.float64(444.0), 134.0, 748.0, 1990.0, 192.0, 267.0, 586.0, 648.0, np.float64(444.0), np.float64(444.0), 1116.0, -90.0, 170.0, np.float64(444.0), np.float64(444.0), 179.0, 763.0, 320.0, 1960.0, 818.0, 2678.0, 1980.0, 1582.0, np.float64(444.0), 235.0, 489.0, np.float64(444.0), 699.0, 58.0, 1327.0, 557.0, 741.0, 3230.0, 1439.0, 120.0, 1058.0, 881.0, 6728.0, 462.0, 167.0, np.float64(444.0), 1625.0, 562.0, 9305.0, 35.0, 0.0, 2486.0, np.float64(444.0), 1558.0, 8627.0, 2590.0, 0.0, np.float64(444.0), 385.0, 1649.0, 9228.0, 0.0, np.float64(444.0), 771.0, 280.0, 46.0, 2431.0, np.float64(444.0), 160.0, 555.0, 778.0, 48.0, 169.0, 12.0, np.float64(444.0), 481.0, 12223.0, -254.0, 1148.0, 5.0, 50.0, 92.0, np.float64(444.0), 0.0, 109.0, np.float64(444.0), 0.0, 2685.0, -3.0, 7007.0, 220.0, np.float64(444.0), 326.0, 0.0, 123.0, 697.0, 223.0, 1694.0, 4446.0, 894.0, 202.0, 0.0, 1707.0, 13658.0, 406.0, np.float64(444.0), 0.0, -276.0, 413.0, 655.0, 694.0, 10218.0, 1646.0, 14.0, 7635.0, 9.0, 1029.0, 2855.0, 260.0, np.float64(444.0), -97.0, 1465.0, 125.0, 930.0, 0.0, 73.0, -35.0, 1351.0, 1601.0, 88.0, 435.0, np.float64(444.0), 705.0, np.float64(444.0), -131.0, 1191.0, 47.0, 544.0, np.float64(444.0), np.float64(444.0), 118.0, -388.0, np.float64(444.0), 1511.0, 147.0, 836.0, 55.0, 1123.0, 691.0, 0.0, 12531.0, 552.0, 0.0, 309.0, 33.0, 681.0, 1787.0, 14220.0, 12569.0, 4.0, 3587.0, 254.0, 1712.0, 4855.0, 2408.0, 252.0, 346.0, 45.0, 556.0, -710.0, -551.0, 56.0, 1514.0, 178.0, 359.0, 1580.0, np.float64(444.0), 1161.0, 1278.0, 982.0, np.float64(444.0), np.float64(444.0), 128.0, 2543.0, 42045.0, 828.0, 0.0, 3940.0, 125.0, 140.0, 593.0, 746.0, 589.0, 2343.0, np.float64(444.0), 644.0, -26.0, 3354.0, 23.0, 7.0, 3735.0, 2094.0, 508.0, 0.0, np.float64(444.0), 0.0, 26394.0, -11.0, 523.0, -74.0, 0.0, 122.0, 351.0, 35.0, np.float64(444.0), np.float64(444.0), 60.0, 342.0, 1830.0, 1904.0, 16957.0, 26.0, 0.0, 79.0, 2303.0, 65.0, 332.0, -399.0, -54.0, -102.0, 4809.0, 279.0, 11.0, 2201.0, 8044.0, 2374.0, 92.0, 443.0, 1397.0, 7.0, np.float64(444.0), 232.0, 81.0, np.float64(444.0), np.float64(444.0), 187.0, 0.0, 4610.0, np.float64(444.0), 334.0, 2.0, np.float64(444.0), 43.0, 4030.0, 306.0, 0.0, 168.0, np.float64(444.0), 518.0, 1696.0, -31.0, 856.0, 318.0, np.float64(444.0), 800.0, 75.0, 347.0, 2366.0, 701.0, 475.0, 3285.0, 925.0, 128.0, 1587.0, 879.0, 478.0, 280.0, 1868.0, 819.0, 4646.0, 27.0, 736.0, 224.0, 2544.0, np.float64(444.0), 2764.0, 376.0, 523.0, 71.0, 3948.0, 1810.0, 994.0, 52.0, 11.0, 0.0, 747.0, 2657.0, 313.0, 61.0, 2557.0, 0.0, np.float64(444.0), 658.0, 1679.0, 0.0, 841.0, 0.0, 1160.0, -37.0, np.float64(444.0), 585.0, 235.0, 2145.0, 1464.0, 232.0, 187.0, 12.0, 318.0, 405.0, 334.0, 0.0, 2.0, 966.0, 195.0, 0.0, 0.0, 260.0, 451.0, 3242.0, 8515.0, 1808.0, 20.0, 3068.0, 23.0, 1076.0, 1060.0, 678.0, 1147.0, -630.0, 459.0, 976.0, 357.0, -9.0, np.float64(444.0), np.float64(444.0), 9146.0, 59.0, 0.0, 328.0, 291.0, -703.0, 589.0, 6053.0, 1142.0, 725.0, 802.0, 556.0, 191.0, 373.0, 6164.0, 37.0, 1156.0, 806.0, 2381.0, -314.0, 285.0, 1199.0, 481.0, 137.0, 168.0, 156.0, 4745.0, 11797.0, 786.0, np.float64(444.0), 0.0, 331.0, 1554.0, 132.0, 5086.0, 529.0, 4824.0, 474.0, 86.0, 2281.0, 186.0, 137.0, 6968.0, 86.0, 81.0, 6904.0, 137.0, np.float64(444.0), 759.0, 1922.0, 3298.0, 764.0, 8556.0, 3514.0, 0.0, 680.0, 0.0, 2819.0, -518.0, 60.0, 732.0, 2707.0, 177.0, 13229.0, -204.0, 990.0, 648.0, 50.0, np.float64(444.0), 763.0, np.float64(444.0), 0.0, 5739.0, 0.0, -375.0, 157.0, 1518.0, 1343.0, -401.0, 5310.0, np.float64(444.0), 22171.0, 856.0, 1169.0, 3797.0, 53.0, 2519.0, 795.0, 0.0, 2087.0, 34.0, 5.0, 15.0, 390.0, 712.0, 2600.0, -241.0, 1545.0, 1026.0, 435.0, 876.0, 1801.0, 2278.0, 157.0, 1327.0, 284.0, 495.0, 1588.0, 0.0, 428.0, 542.0, 66.0, 314.0, 24.0, 613.0, 1467.0, 192.0, 321.0, 788.0, 48.0, np.float64(444.0), 4438.0, 5045.0, 3014.0, 21664.0, 5878.0, np.float64(444.0), 576.0, 0.0, 2197.0, 104.0, 1279.0, 295.0, 2128.0, np.float64(444.0), 1477.0, 71.0, 127.0, 2921.0, 16264.0, 1672.0, 9207.0, 356.0, 133.0, 1217.0, 202.0, 590.0, 442.0, 808.0, np.float64(444.0), 431.0, 4256.0, 0.0, np.float64(444.0), np.float64(444.0), 3.0, 693.0, 0.0, 362.0, 618.0, 2893.0, 230.0, 1287.0, 179.0, 980.0, 79.0, 3043.0, 808.0, 745.0, 1309.0, np.float64(444.0), 1792.0, 178.0, 0.0, 537.0, 416.0, 1472.0, 3953.0, 112.0, 13204.0, 0.0, 2240.0, 22546.0, 0.0, 23.0, 228.0, 215.0, 23.0, 293.0, 0.0, np.float64(444.0), 459.0, 8131.0, -378.0, 395.0, 10787.0, 865.0, 340.0, 1882.0, 265.0, 389.0, 0.0, 384.0, np.float64(444.0), 1471.0, 937.0, np.float64(444.0), np.float64(444.0), 365.0, 34.0, 429.0, 6839.0, 6.0, 467.0, 1876.0, 1847.0, 247.0, 897.0, 4664.0, 1291.0, np.float64(444.0), -471.0, 1160.0, 14.0, 26.0, 452.0, np.float64(444.0), 2033.0, 0.0, 789.0, 142.0, 645.0, 897.0, np.float64(444.0), 847.0, 0.0, 517.0, 1308.0, 66.0, 361.0, 66.0, 70.0, 180.0, 279.0, 4.0, 1416.0, 465.0, 998.0, 550.0, 1285.0, 4908.0, 336.0, 131.0, 348.0, 453.0, np.float64(444.0), np.float64(444.0), 502.0, 8669.0, 316.0, 9324.0, 0.0, np.float64(444.0), 61.0, 173.0, -162.0, 47.0, 1983.0, 326.0, 2552.0, 1283.0, 2179.0, 1047.0, 36.0, -308.0, np.float64(444.0), 2077.0, 0.0, np.float64(444.0), 7735.0, 1922.0, np.float64(444.0), 2770.0, np.float64(444.0), 21.0, 178.0, 444.0, 209.0, 3096.0, 5320.0, 4885.0, 0.0, 5462.0, 6767.0, 2974.0, np.float64(444.0), 8876.0, 146.0, 319.0, 304.0, 389.0, 766.0, 0.0, 3107.0, np.float64(444.0), -305.0, np.float64(444.0), 6164.0, 2850.0, 79.0, 110.0, 5039.0, 360.0, np.float64(444.0), np.float64(444.0), 5092.0, 1088.0, np.float64(444.0), np.float64(444.0), 750.0, 0.0, 1291.0, np.float64(444.0), 89.0, 4280.0, 0.0, 625.0, 574.0, 320.0, np.float64(444.0), np.float64(444.0), 0.0, 5706.0, 7780.0, -559.0, 16874.0, 1987.0, 98.0, 642.0, 526.0, 6483.0, 2306.0, np.float64(444.0), -679.0, -1.0, 2590.0, 331.0, 4209.0, 462.0, 0.0, 0.0, 151.0, 883.0, 266.0, 0.0, 491.0, 3.0, 198.0, 14363.0, 0.0, 136.0, 28.0, 335.0, np.float64(444.0), 270.0, np.float64(444.0), 198.0, 914.0, 31.0, 0.0, 347.0, 860.0, 89.0, 0.0, 0.0, 68.0, -149.0, 2411.0, 225.0, 2731.0, 112.0, 0.0, 3620.0, 179.0, 1544.0, np.float64(444.0), 231.0, 76.0, 302.0, 189.0, 565.0, np.float64(444.0), 1746.0, 6.0, -110.0, 2749.0, 6495.0, 35.0, -650.0, np.float64(444.0), 5774.0, 2416.0, 35.0, 19317.0, 50.0, -674.0, 3726.0, 1180.0, 6610.0, 319.0, 1545.0, 1315.0, 424.0, 151.0, -970.0, -762.0, 181.0, -120.0, 1022.0, 78.0, 209.0, 2469.0, 0.0, 328.0, 0.0, 307.0, 1384.0, 0.0, 719.0, 0.0, 6704.0, 4543.0, 0.0, 149.0, -1400.0, -118.0, 2160.0, 3452.0, 842.0, 3576.0, np.float64(444.0), 0.0, 0.0, 1628.0, 51.0, 447.0, 396.0, 4994.0, 3215.0, 2814.0, 0.0, 293.0, 474.0, 16178.0, 0.0, 88.0, np.float64(444.0), 1164.0, 13893.0, 0.0, -435.0, 389.0, 356.0, 2718.0, 261.0, 757.0, np.float64(444.0), -422.0, 248.0, 145.0, 598.0, 949.0, 614.0, 1209.0, 202.0, 1840.0, 114.0, -229.0, np.float64(444.0), 401.0, 759.0, 4194.0, 0.0, 629.0, np.float64(444.0), 553.0, 1057.0, 78.0, -28.0, 929.0, 428.0, 268.0, 83.0, 998.0, 2223.0, 6.0, 312.0, 0.0, 691.0, 771.0, 192.0, 0.0, 1070.0, 84.0, 2.0, 1242.0, 5969.0, 3337.0, 1347.0, np.float64(444.0), 249.0, 0.0, 128.0, np.float64(444.0), 351.0, 5533.0, np.float64(444.0), 35.0, 235.0, np.float64(444.0), 92.0, 67.0, 4022.0, 3057.0, 0.0, 349.0, 2322.0, 167.0, 558.0, -230.0, 4094.0, 239.0, np.float64(444.0), 179.0, 305.0, -67.0, 4539.0, 770.0, -673.0, 858.0, 0.0, 5244.0, np.float64(444.0), np.float64(444.0), 0.0, 1331.0, 31.0, 179.0, 543.0, 253.0, 71188.0, 5108.0, 1738.0, -97.0, np.float64(444.0), 489.0, 355.0, -97.0, np.float64(444.0), 6649.0, 263.0, 781.0, 1032.0, 119.0, 434.0, 2967.0, -331.0, np.float64(444.0), 4384.0, 588.0, 3180.0, 0.0, -76.0, 152.0, 1040.0, -384.0, np.float64(444.0), 475.0, 0.0, 149.0, 3285.0, 424.0, 79.0, 674.0, 0.0, 58.0, 532.0, 4130.0, 422.0, 437.0, -308.0, np.float64(444.0), 137.0, -247.0, 321.0, 250.0, -470.0, 140.0, np.float64(444.0), 410.0, 2628.0, 116.0, 0.0, 878.0, 2944.0, 3975.0, np.float64(444.0), 2288.0, 472.0, 65.0, 0.0, np.float64(444.0), 7495.0, 137.0, 24.0, 3450.0, 311.0, np.float64(444.0), 0.0, 492.0, 334.0, 997.0, np.float64(444.0), 47.0, 1298.0, 3355.0, -11.0, 396.0, 8.0, 1409.0, 170.0, 2769.0, 2320.0, 76.0, 2034.0, 3018.0, 921.0, 483.0, 390.0, 0.0, 92.0, 22196.0, 2.0, 249.0, np.float64(444.0), 5731.0, 206.0, 2325.0, 0.0, 1664.0, 3333.0, 7020.0, 37.0, 28.0, 1670.0, 134.0, 603.0, np.float64(444.0), 2157.0, np.float64(444.0), 3658.0, -402.0, np.float64(444.0), 1732.0, 263.0, 623.0, 3540.0, 95.0, 765.0, -824.0, 5549.0, 191.0, 420.0, 0.0, 2706.0, 4.0, 423.0, -892.0, -120.0, -365.0, 27069.0, 8038.0, -938.0, 1139.0, 189.0, 19.0, 3663.0, 0.0, -614.0, 2323.0, 425.0, 5122.0, 608.0, 341.0, 607.0, 1495.0, np.float64(444.0), 385.0, 1274.0, 362.0, 377.0, 802.0, np.float64(444.0), -315.0, 1843.0, -9.0, 83.0, 433.0, -107.0, 4503.0, 51.0, 961.0, np.float64(444.0), 3470.0, -147.0, 0.0, 0.0, 172.0, -407.0, 649.0, 1040.0, 142.0, 209.0, 3304.0, np.float64(444.0), 4848.0, 1670.0, np.float64(444.0), 13683.0, 1420.0, 340.0, 1679.0, 1198.0, 169.0, 506.0, 1249.0, 678.0, 212.0, 23.0, 4402.0, 459.0, 4722.0, 1555.0, 61.0, 0.0, 3706.0, np.float64(444.0), np.float64(444.0), 748.0, 3357.0, 3809.0, 395.0, 1011.0, 420.0, 76.0, 0.0, 844.0, 1318.0, 167.0, 2187.0, 14440.0, 2294.0, 80.0, np.float64(444.0), 569.0, 0.0, 0.0, 12.0, np.float64(444.0), 460.0, 613.0, 7944.0, 1143.0, -464.0, 1989.0, 17.0, -1.0, 1698.0, 5306.0, 0.0, 1679.0, 3676.0, -242.0, 471.0, 8902.0, np.float64(444.0), 3050.0, 2581.0, 162.0, 243.0, 1847.0, 0.0, 3371.0, 1757.0, 171.0, 157.0, 934.0, -19.0, -55.0, 21.0, 14.0, 246.0, 887.0, 51.0, -287.0, 0.0, 2734.0, 52.0, 2594.0, 22.0, 1611.0, 18.0, 1331.0, 7337.0, 835.0, 5092.0, 52.0, 10655.0, 1831.0, 92.0, 586.0, 1758.0, 2061.0, 959.0, 208.0, -315.0, -13.0, 801.0, 1948.0, 751.0, 784.0, 24.0, np.float64(444.0), 1871.0, 1378.0, 188.0, 6836.0, 61.0, -967.0, 462.0, 0.0, 5527.0, 1287.0, 17361.0, 1956.0, 0.0, -294.0, 275.0, 724.0, 27.0, 26.0, 191.0, -123.0, -147.0, 179.0, 1086.0, 471.0, 105.0, 1588.0, 70.0, 2700.0, 1602.0, 0.0, np.float64(444.0), 21515.0, 5902.0, 547.0, 3800.0, 261.0, 0.0, -34.0, 9328.0, 5.0, 3529.0, 2330.0, 1334.0, 3601.0, 265.0, np.float64(444.0), 487.0, 0.0, np.float64(444.0), 14412.0, 3288.0, 57.0, 2246.0, np.float64(444.0), 0.0, 353.0, 448.0, 27.0, 474.0, 1185.0, 282.0, 2.0, 60.0, 3972.0, 26452.0, 818.0, 9374.0, 47.0, 279.0, 20.0, 360.0, 1532.0, 1673.0, np.float64(444.0), 100.0, 0.0, 1533.0, 296.0, 2788.0, 109.0, 485.0, 125.0, 616.0, 3064.0, 206.0, 6900.0, -179.0, 481.0, 12.0, 0.0, np.float64(444.0), 4086.0, 257.0, 53.0, 6.0, 562.0, -118.0, 2805.0, 565.0, 0.0, 1612.0, 180.0, 0.0, 876.0, 2137.0, 260.0, -53.0, 944.0, 2394.0, 297.0, 2144.0, np.float64(444.0), 0.0, 37.0, 410.0, np.float64(444.0), 71.0, 436.0, 559.0, 1170.0, np.float64(444.0), 1325.0, 0.0, np.float64(444.0), 2142.0, 639.0, 177.0, 236.0, 1959.0, np.float64(444.0), 0.0, 250.0, 126.0, 1621.0, 8.0, 189.0, 316.0, -282.0, -308.0, 248.0, 126.0, 13.0, -393.0, np.float64(444.0), 917.0, 1268.0, -163.0, np.float64(444.0), 4831.0, 1063.0, 0.0, 424.0, 802.0, 430.0, 3940.0, 2880.0, np.float64(444.0), 4382.0, 0.0, 3939.0, 753.0, np.float64(444.0), 1141.0, 1259.0, 227.0, 538.0, 92.0, 8023.0, 2478.0, 6844.0, np.float64(444.0), 800.0, 914.0, 638.0, 159.0, 483.0, np.float64(444.0), 1044.0, 0.0, 401.0, 33.0, 506.0, np.float64(444.0), 344.0, 0.0, 3.0, np.float64(444.0), 36.0, np.float64(444.0), 760.0, 220.0, 10907.0, -148.0, 415.0, 1341.0, 865.0, -566.0, np.float64(444.0), 1275.0, 579.0, 2934.0, 6637.0, 271.0, 0.0, 472.0, 487.0, 699.0, 150.0, 1130.0, 584.0, np.float64(444.0), 133.0, 868.0, 480.0, 1883.0, 606.0, 603.0, np.float64(444.0), -872.0, 33.0, 1689.0, 902.0, 0.0, 260.0, 589.0, np.float64(444.0), 0.0, 78.0, 3792.0, 14058.0, -522.0, np.float64(444.0), 1978.0, 459.0, 2812.0, 5057.0, -759.0, -416.0, 2106.0, 220.0, 0.0, 426.0, 4717.0, 395.0, 0.0, -206.0, 6.0, 4039.0, 687.0, -242.0, 582.0, 8218.0, 1424.0, 92.0, 2085.0, 197.0, 2305.0, -547.0, 411.0, 584.0, 997.0, 83.0, 6563.0, 0.0, 0.0, 398.0, 1145.0, 2.0, 201.0, 563.0, 3161.0, 0.0, 1331.0, 2929.0, -220.0, 5980.0, 48.0, 0.0, 3382.0, np.float64(444.0), np.float64(444.0), 162.0, 1073.0, 1700.0, 148.0, 0.0, 185.0, 896.0, 1279.0, np.float64(444.0), 99.0, np.float64(444.0), 15.0, 147.0, 2225.0, 1810.0, -6.0, 435.0, 335.0, -251.0, 5.0, 641.0, 0.0, 722.0, 3337.0, 0.0, 1504.0, 35.0, 895.0, 752.0, 1925.0, -246.0, 901.0, 894.0, 592.0, 3529.0, 0.0, 0.0, 371.0, np.float64(444.0), 834.0, 298.0, 306.0, 143.0, 186.0, 5597.0, 1547.0, 1852.0, 1790.0, 20.0, 8652.0, 1626.0, 749.0, 51.0, -1.0, -32.0, 6850.0, 333.0, -27.0, 932.0, 0.0, 100.0, -626.0, 9.0, 653.0, np.float64(444.0), 293.0, 36.0, 263.0, 8366.0, 2186.0, 20453.0, 105.0, np.float64(444.0), np.float64(444.0), 19447.0, 225.0, 2548.0, 0.0, 2284.0, np.float64(444.0), np.float64(444.0), np.float64(444.0), 10888.0, 0.0, 225.0, 2131.0, -20.0, 36.0, 2642.0, np.float64(444.0), 1214.0, -292.0, 1415.0, np.float64(444.0), np.float64(444.0), 3232.0, 296.0, 42.0, 697.0, 13156.0, 1490.0, 150.0, 0.0, 4210.0, 1012.0, 16063.0, 5431.0, 317.0, 4787.0, 225.0, 3854.0, 92.0, -10.0, -617.0, 195.0, 1172.0, 0.0, 0.0, -94.0, 609.0, 4.0, np.float64(444.0), 355.0, 3653.0, 1097.0, 436.0, 4795.0, 266.0, 3357.0, 101.0, 10910.0, 1568.0, 0.0, 305.0, 31.0, 452.0, 5.0, 7929.0, 39.0, 267.0, 4945.0, 463.0, np.float64(444.0), 59.0, 131.0, 107.0, -35.0, 230.0, 2679.0, 493.0, 256.0, -133.0, 811.0, 302.0, 3529.0, 75.0, 999.0, 7845.0, 260.0, np.float64(444.0), 1557.0, 505.0, 1536.0, 0.0, 439.0, 44.0, 295.0, 190.0, 3935.0, -17.0, 175.0, 4888.0, np.float64(444.0), 4460.0, 98.0, 330.0, 13117.0, 12877.0, 1506.0, 0.0, 775.0, np.float64(444.0), 246.0, np.float64(444.0), 304.0, 360.0, 3316.0, 6880.0, 2189.0, 5304.0, np.float64(444.0), 181.0, 3953.0, 6969.0, 572.0, 223.0, -396.0, 164.0, 2678.0, 920.0, 4554.0, 623.0, np.float64(444.0), 1577.0, np.float64(444.0), 0.0, np.float64(444.0), 3534.0, 200.0, 4790.0, -237.0, 1335.0, 603.0, 577.0, 0.0, 163.0, 1158.0, 642.0, 466.0, 119.0, 3436.0, np.float64(444.0), np.float64(444.0), 32.0, 315.0, 6945.0, 3496.0, 0.0, 309.0, 0.0, 668.0, 1175.0, 363.0, np.float64(444.0), 1183.0, 942.0, 4196.0, 297.0, -91.0, 362.0, 1080.0, np.float64(444.0), -166.0, 288.0, 642.0, 2506.0, 566.0, 668.0, 1100.0, 322.0, 1205.0, np.float64(444.0), -333.0, -3313.0, 295.0, 1137.0, 1136.0]\n"
     ]
    }
   ],
   "source": [
    "list1=[]\n",
    "for k in balance_data:\n",
    "    if k in outliers:\n",
    "        list1.append(np.median(balance_data))\n",
    "    else:\n",
    "        list1.append(k)\n",
    "print(list1)\n"
   ]
  },
  {
   "cell_type": "code",
   "execution_count": 38,
   "id": "59dd70dd",
   "metadata": {},
   "outputs": [
    {
     "data": {
      "text/plain": [
       "count     4521.000000\n",
       "mean      1422.657819\n",
       "std       3009.638142\n",
       "min      -3313.000000\n",
       "25%         69.000000\n",
       "50%        444.000000\n",
       "75%       1480.000000\n",
       "max      71188.000000\n",
       "Name: balance, dtype: float64"
      ]
     },
     "execution_count": 38,
     "metadata": {},
     "output_type": "execute_result"
    }
   ],
   "source": [
    "balance_data.describe()"
   ]
  },
  {
   "cell_type": "code",
   "execution_count": 39,
   "id": "21cc735a",
   "metadata": {},
   "outputs": [
    {
     "data": {
      "image/png": "[encoded data removed]",
      "text/plain": [
       "<Figure size 640x480 with 1 Axes>"
      ]
     },
     "metadata": {},
     "output_type": "display_data"
    }
   ],
   "source": [
    "sns.boxenplot(list1,orient='h')\n",
    "plt.show()"
   ]
  },
  {
   "cell_type": "code",
   "execution_count": 40,
   "id": "4fa67a47",
   "metadata": {},
   "outputs": [
    {
     "data": {
      "text/plain": [
       "<Axes: ylabel='Count'>"
      ]
     },
     "execution_count": 40,
     "metadata": {},
     "output_type": "execute_result"
    },
    {
     "data": {
      "image/png": "[encoded data removed]",
      "text/plain": [
       "<Figure size 640x480 with 1 Axes>"
      ]
     },
     "metadata": {},
     "output_type": "display_data"
    }
   ],
   "source": [
    "sns.histplot(list1, bins=20, kde=True)"
   ]
  }
 ],
 "metadata": {
  "kernelspec": {
   "display_name": "Python 3",
   "language": "python",
   "name": "python3"
  },
  "language_info": {
   "codemirror_mode": {
    "name": "ipython",
    "version": 3
   },
   "file_extension": ".py",
   "mimetype": "text/x-python",
   "name": "python",
   "nbconvert_exporter": "python",
   "pygments_lexer": "ipython3",
   "version": "3.13.2"
  }
 },
 "nbformat": 4,
 "nbformat_minor": 5
}
